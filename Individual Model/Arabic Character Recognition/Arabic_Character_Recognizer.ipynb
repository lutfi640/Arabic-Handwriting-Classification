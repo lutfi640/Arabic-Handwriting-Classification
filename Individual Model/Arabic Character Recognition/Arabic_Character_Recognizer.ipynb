{
  "cells": [
    {
      "cell_type": "markdown",
      "metadata": {
        "id": "S0DeHIXTeKeX"
      },
      "source": [
        "# Arabic Character Recognition"
      ]
    },
    {
      "cell_type": "markdown",
      "metadata": {
        "id": "sRXloTWAt7lc"
      },
      "source": [
        "## Dataset\n",
        "The data-set is composed of 16,800 characters written by 60 participants, the age range is between 19 to 40 years, and 90% of participants are right-hand. Each participant wrote each character (from ’alif’ to ’ya’). The forms were scanned at the resolution of 300 dpi. Each block is segmented automatically using Matlab 2016a to determining the coordinates for each block. The database is partitioned into two sets: a training set (13,440 characters to 480 images per class) and a test set (3,360 characters to 120 images per class). Writers of training set and test set are exclusive. Ordering of including writers to test set are randomized to make sure that writers of test set are not from a single institution (to ensure variability of the test set).\n",
        "\n",
        "Dataset link down below : \n",
        "\n",
        "https://www.kaggle.com/mloey1/ahcd1"
      ]
    },
    {
      "cell_type": "code",
      "execution_count": 1,
      "metadata": {},
      "outputs": [],
      "source": [
        "#code to activate tensorflow gpu mode in case there is error raised because of \"NO ALGORITHM WORKED!\"\n",
        "from tensorflow._api.v2.compat.v1 import ConfigProto\n",
        "from tensorflow._api.v2.compat.v1 import InteractiveSession\n",
        "\n",
        "config = ConfigProto()\n",
        "config.gpu_options.allow_growth = True\n",
        "session = InteractiveSession(config=config)"
      ]
    },
    {
      "cell_type": "markdown",
      "metadata": {
        "id": "KQxIa73_5Y1p"
      },
      "source": [
        "## Data Exploring & Preprocessing"
      ]
    },
    {
      "cell_type": "markdown",
      "metadata": {
        "id": "p7EgfTVy5ck3"
      },
      "source": [
        "1- Let's import our libraries that we will use in this project."
      ]
    },
    {
      "cell_type": "code",
      "execution_count": 2,
      "metadata": {
        "id": "6YXIBfocHmj5"
      },
      "outputs": [],
      "source": [
        "#Import library\n",
        "import tensorflow as tf                                                         # The main framework we will build our model with.\n",
        "import numpy as np                                                              # Used for mathimatical operations.\n",
        "import pandas as pd                                                             # Will be used to load our data frame.\n",
        "import cv2                                                                      # Used for image processing.\n",
        "from matplotlib import pyplot as plt                                            # Used for plottin our data.\n",
        "from tensorflow.keras.utils import to_categorical                               # Utility in Tensorflow to convert our true category values."
      ]
    },
    {
      "cell_type": "markdown",
      "metadata": {
        "id": "keUYyJezeH3q"
      },
      "source": [
        "2- Now we wil mount google drive for loading our data. (if you want to run it on google colab, but if you run it locally you can command that code) "
      ]
    },
    {
      "cell_type": "code",
      "execution_count": 3,
      "metadata": {
        "colab": {
          "base_uri": "https://localhost:8080/"
        },
        "id": "SCo4zIAkH54h",
        "outputId": "39a77dce-412f-4da4-e8f0-bd0ef4d8abad"
      },
      "outputs": [],
      "source": [
        "# from google.colab import drive                                                  \n",
        "# drive.mount('/content/gdrive')"
      ]
    },
    {
      "cell_type": "markdown",
      "metadata": {
        "id": "uVFM9Wl96eDq"
      },
      "source": [
        "3- We will use Pandas library to read our data and load it into our data frame, our data is stored in CSV format so we will use the appropriate function to load it."
      ]
    },
    {
      "cell_type": "code",
      "execution_count": 4,
      "metadata": {
        "id": "sm43wmpBH7UU"
      },
      "outputs": [],
      "source": [
        "path = 'D:\\AtlantisSeeker-UIN\\Skripsi Imam\\Arabic char and digits recognition\\Individual Model\\Arabic Character Recognition\\Dataset'  # Here we specify the path to our data location on drive\n",
        "train_data_x = pd.read_csv(path + '/csvTrainImages 13440x1024.csv', header=None)# Then we load the training images.\n",
        "train_data_y = pd.read_csv(path + '/csvTrainLabel 13440x1.csv', header=None)    # Training labels.\n",
        "test_data_x = pd.read_csv(path + '/csvTestImages 3360x1024.csv', header=None)   # Testing images.\n",
        "test_data_y = pd.read_csv(path + '/csvTestLabel 3360x1.csv', header=None)       # Testing labels."
      ]
    },
    {
      "cell_type": "code",
      "execution_count": 5,
      "metadata": {},
      "outputs": [
        {
          "data": {
            "text/plain": [
              "(13440, 1024)"
            ]
          },
          "execution_count": 5,
          "metadata": {},
          "output_type": "execute_result"
        }
      ],
      "source": [
        "train_data_x.shape #print the shape of the data training"
      ]
    },
    {
      "cell_type": "markdown",
      "metadata": {
        "id": "RTOr2zmRCFKW"
      },
      "source": [
        "4- Now let's examine our data properties.\n",
        "\n",
        "We will find that we have 13440 training image with their labels in the training set and 3360 in the testing set, along with a total of 28 classes which idecates the number of Arabic letters.\n",
        "\n",
        "The number of pixels in each image is 1024, so we can conclude the pixels per image by getting the square root of the number of pixels which will give us 32, so the dimensions of our image is 32x32x1 as it is a grey scale image, we will use this piece of information for preprocessing our images."
      ]
    },
    {
      "cell_type": "code",
      "execution_count": 6,
      "metadata": {
        "colab": {
          "base_uri": "https://localhost:8080/"
        },
        "id": "ShNnODiZ7Tdx",
        "outputId": "2ae84b6a-21c6-42a1-abb5-e8ad5bce2158"
      },
      "outputs": [
        {
          "name": "stdout",
          "output_type": "stream",
          "text": [
            "We have  13440 training images each contains 1024 pixels.\n",
            "We have  13440 training labels each contains 28 classes.\n",
            "We have  3360 testing images each contains 1024 pixels.\n",
            "We have  3360 testing labels each contains 28 classes.\n"
          ]
        }
      ],
      "source": [
        "print('We have  %d training images each contains %d pixels.' %(train_data_x.shape[0], train_data_x.shape[1]))\n",
        "print('We have  %d training labels each contains %d classes.' %(train_data_y.shape[0], len(train_data_y.value_counts())))\n",
        "print('We have  %d testing images each contains %d pixels.' %(test_data_x.shape[0], test_data_x.shape[1]))\n",
        "print('We have  %d testing labels each contains %d classes.' %(test_data_y.shape[0], len(test_data_y.value_counts())))"
      ]
    },
    {
      "cell_type": "markdown",
      "metadata": {
        "id": "DXYb_1aPCryC"
      },
      "source": [
        "We notice also that there are 480 image per class, and there is also a very important note that we should put into consideration, the classes start from 1 to 28, but for our classifer we would like our classes to be from 0 to 27, we will use this piece of information in preprocessing the labels. "
      ]
    },
    {
      "cell_type": "code",
      "execution_count": 7,
      "metadata": {
        "colab": {
          "base_uri": "https://localhost:8080/"
        },
        "id": "fp9GRUSHCoqC",
        "outputId": "4d795047-3862-42b8-eb13-de92a30ad350"
      },
      "outputs": [
        {
          "data": {
            "text/plain": [
              "28    120\n",
              "27    120\n",
              "2     120\n",
              "3     120\n",
              "4     120\n",
              "5     120\n",
              "6     120\n",
              "7     120\n",
              "8     120\n",
              "9     120\n",
              "10    120\n",
              "11    120\n",
              "12    120\n",
              "13    120\n",
              "14    120\n",
              "15    120\n",
              "16    120\n",
              "17    120\n",
              "18    120\n",
              "19    120\n",
              "20    120\n",
              "21    120\n",
              "22    120\n",
              "23    120\n",
              "24    120\n",
              "25    120\n",
              "26    120\n",
              "1     120\n",
              "dtype: int64"
            ]
          },
          "execution_count": 7,
          "metadata": {},
          "output_type": "execute_result"
        }
      ],
      "source": [
        "test_data_y.value_counts()"
      ]
    },
    {
      "cell_type": "markdown",
      "metadata": {
        "id": "i4SWelXGHU5l"
      },
      "source": [
        "Let's see what our images looks like."
      ]
    },
    {
      "cell_type": "code",
      "execution_count": 8,
      "metadata": {
        "colab": {
          "base_uri": "https://localhost:8080/",
          "height": 486
        },
        "id": "tHrDRNcRIPXI",
        "outputId": "d52de0a2-401d-4383-d2f3-7cbec3ca0090"
      },
      "outputs": [
        {
          "data": {
            "image/png": "[encoded data removed]",
            "text/plain": [
              "<Figure size 720x720 with 20 Axes>"
            ]
          },
          "metadata": {
            "needs_background": "light"
          },
          "output_type": "display_data"
        }
      ],
      "source": [
        "fig = plt.figure(figsize=(10, 10))                                              # Setting the figure size.\n",
        "columns = 4                                                                     # Selecting the number of columns.\n",
        "rows = 5                                                                        # Selectin the number of rows.\n",
        "for i in range(1, columns*rows +1):                                             # Looping through rows & columns.\n",
        "  img = test_data_x.iloc[i].to_numpy().reshape((32,32))                         # Reshaping the image into its size 32x32\n",
        "  fig.add_subplot(rows, columns, i)                                             # Adding the image to the plot\n",
        "  plt.imshow(img, cmap='gray')                                                  # Showing the image using plt\n",
        "plt.show()                                                                      # Finally shpwing the whole plot containing all the subplots"
      ]
    },
    {
      "cell_type": "markdown",
      "metadata": {
        "id": "HKhMF-oJ7NFQ"
      },
      "source": [
        "5- Now we define a function for us to preprocess the data,\n",
        "\n",
        "We will start with reshaping the image to be with the size of 32x32, so that the training array will be of size of #imagesx32x32, then we will pass through each image to flip and rotate them as they are rotated, then we will reshape the entire array with the #imagex32x32x1, and the 1 stands for our grey scale images, lastly we will normalize our images by dividing by 255 for pixels normalization."
      ]
    },
    {
      "cell_type": "code",
      "execution_count": 9,
      "metadata": {
        "id": "DFLrl6e_IGR2"
      },
      "outputs": [],
      "source": [
        "def preprocess_data(train_data_x):\n",
        "  train_data_x = train_data_x.to_numpy().reshape((train_data_x.shape[0], 32, 32)).astype('uint8') #convert every data to numpy and then reshape it to total_image, 32pxl, 32pxl\n",
        "  for i in range(len(train_data_x)):                                            # iterate to every single of data\n",
        "    train_data_x[i] = cv2.rotate(train_data_x[i], cv2.ROTATE_90_CLOCKWISE)      # Rotating the images.\n",
        "    train_data_x[i] = np.flip(train_data_x[i], 1)                               # Flipping the images\n",
        "  train_data_x = train_data_x.reshape([-1, 32, 32, 1]).astype('uint8')          # Reshaping into the required size.\n",
        "  train_data_x = train_data_x.astype('float32')/255                             # Here we normalize our images.\n",
        "  return np.asarray(train_data_x)"
      ]
    },
    {
      "cell_type": "code",
      "execution_count": 10,
      "metadata": {
        "id": "CO9pCdPXODj6"
      },
      "outputs": [],
      "source": [
        "train_x = preprocess_data(train_data_x)                                         # Returns an array of dimensions (13440,32,32,1).\n",
        "test_x = preprocess_data(test_data_x)                                           # Returns an array of dimensions (3360,32,32,1)."
      ]
    },
    {
      "cell_type": "markdown",
      "metadata": {
        "id": "3lHMkOB9FbFF"
      },
      "source": [
        "6- Now we preprocess our labels by converting them to the categorcal form.\n",
        "\n",
        "Note: we subtracted one from the values of the labels we so get our classes values in the form of 0-27 as we mentioned earlier."
      ]
    },
    {
      "cell_type": "code",
      "execution_count": 11,
      "metadata": {
        "id": "q59S-Grzin2E"
      },
      "outputs": [],
      "source": [
        "train_y = to_categorical(train_data_y.values.astype('int32') - 1                # Returns an array of dimentions (13340, 28).\n",
        "                         , num_classes=28)\n",
        "test_y = to_categorical(test_data_y.values.astype('int32') - 1                  # Returns an array of dimentions (3360, 28).\n",
        "                        , num_classes=28)"
      ]
    },
    {
      "cell_type": "code",
      "execution_count": 12,
      "metadata": {},
      "outputs": [
        {
          "data": {
            "text/plain": [
              "array([0., 0., 0., 0., 0., 0., 0., 0., 0., 0., 0., 0., 0., 0., 0., 1., 0.,\n",
              "       0., 0., 0., 0., 0., 0., 0., 0., 0., 0., 0.], dtype=float32)"
            ]
          },
          "execution_count": 12,
          "metadata": {},
          "output_type": "execute_result"
        }
      ],
      "source": [
        "train_y[120]"
      ]
    },
    {
      "cell_type": "code",
      "execution_count": 13,
      "metadata": {},
      "outputs": [
        {
          "data": {
            "image/png": "[encoded data removed]",
            "text/plain": [
              "<Figure size 720x720 with 20 Axes>"
            ]
          },
          "metadata": {
            "needs_background": "light"
          },
          "output_type": "display_data"
        }
      ],
      "source": [
        "fig = plt.figure(figsize=(10, 10))                                              # Setting the figure size.\n",
        "columns = 4                                                                     # Selecting the number of columns.\n",
        "rows = 5                                                                        # Selectin the number of rows.\n",
        "for i in range(1, columns*rows +1):                                             # Looping through rows & columns.\n",
        "  img = test_data_x.iloc[i].to_numpy().reshape((32,32))                         # Reshaping the image into its size 32x32\n",
        "  fig.add_subplot(rows, columns, i)                                             # Adding the image to the plot\n",
        "  plt.imshow(img, cmap='gray')                                                  # Showing the image using plt\n",
        "plt.show()                                                                      # Finally shpwing the whole plot containing all the subplots"
      ]
    },
    {
      "cell_type": "markdown",
      "metadata": {
        "id": "76OB6dpkG2Ku"
      },
      "source": [
        "7- We will now shuffle our training and test sets as we will get better results than using the data's classes in sequential form."
      ]
    },
    {
      "cell_type": "code",
      "execution_count": 14,
      "metadata": {
        "id": "Vr-MGeBgrsTN"
      },
      "outputs": [
        {
          "data": {
            "text/plain": [
              "(array([[[[0.],\n",
              "          [0.],\n",
              "          [0.],\n",
              "          ...,\n",
              "          [0.],\n",
              "          [0.],\n",
              "          [0.]],\n",
              " \n",
              "         [[0.],\n",
              "          [0.],\n",
              "          [0.],\n",
              "          ...,\n",
              "          [0.],\n",
              "          [0.],\n",
              "          [0.]],\n",
              " \n",
              "         [[0.],\n",
              "          [0.],\n",
              "          [0.],\n",
              "          ...,\n",
              "          [0.],\n",
              "          [0.],\n",
              "          [0.]],\n",
              " \n",
              "         ...,\n",
              " \n",
              "         [[0.],\n",
              "          [0.],\n",
              "          [0.],\n",
              "          ...,\n",
              "          [0.],\n",
              "          [0.],\n",
              "          [0.]],\n",
              " \n",
              "         [[0.],\n",
              "          [0.],\n",
              "          [0.],\n",
              "          ...,\n",
              "          [0.],\n",
              "          [0.],\n",
              "          [0.]],\n",
              " \n",
              "         [[0.],\n",
              "          [0.],\n",
              "          [0.],\n",
              "          ...,\n",
              "          [0.],\n",
              "          [0.],\n",
              "          [0.]]],\n",
              " \n",
              " \n",
              "        [[[0.],\n",
              "          [0.],\n",
              "          [0.],\n",
              "          ...,\n",
              "          [0.],\n",
              "          [0.],\n",
              "          [0.]],\n",
              " \n",
              "         [[0.],\n",
              "          [0.],\n",
              "          [0.],\n",
              "          ...,\n",
              "          [0.],\n",
              "          [0.],\n",
              "          [0.]],\n",
              " \n",
              "         [[0.],\n",
              "          [0.],\n",
              "          [0.],\n",
              "          ...,\n",
              "          [0.],\n",
              "          [0.],\n",
              "          [0.]],\n",
              " \n",
              "         ...,\n",
              " \n",
              "         [[0.],\n",
              "          [0.],\n",
              "          [0.],\n",
              "          ...,\n",
              "          [0.],\n",
              "          [0.],\n",
              "          [0.]],\n",
              " \n",
              "         [[0.],\n",
              "          [0.],\n",
              "          [0.],\n",
              "          ...,\n",
              "          [0.],\n",
              "          [0.],\n",
              "          [0.]],\n",
              " \n",
              "         [[0.],\n",
              "          [0.],\n",
              "          [0.],\n",
              "          ...,\n",
              "          [0.],\n",
              "          [0.],\n",
              "          [0.]]],\n",
              " \n",
              " \n",
              "        [[[0.],\n",
              "          [0.],\n",
              "          [0.],\n",
              "          ...,\n",
              "          [0.],\n",
              "          [0.],\n",
              "          [0.]],\n",
              " \n",
              "         [[0.],\n",
              "          [0.],\n",
              "          [0.],\n",
              "          ...,\n",
              "          [0.],\n",
              "          [0.],\n",
              "          [0.]],\n",
              " \n",
              "         [[0.],\n",
              "          [0.],\n",
              "          [0.],\n",
              "          ...,\n",
              "          [0.],\n",
              "          [0.],\n",
              "          [0.]],\n",
              " \n",
              "         ...,\n",
              " \n",
              "         [[0.],\n",
              "          [0.],\n",
              "          [0.],\n",
              "          ...,\n",
              "          [0.],\n",
              "          [0.],\n",
              "          [0.]],\n",
              " \n",
              "         [[0.],\n",
              "          [0.],\n",
              "          [0.],\n",
              "          ...,\n",
              "          [0.],\n",
              "          [0.],\n",
              "          [0.]],\n",
              " \n",
              "         [[0.],\n",
              "          [0.],\n",
              "          [0.],\n",
              "          ...,\n",
              "          [0.],\n",
              "          [0.],\n",
              "          [0.]]],\n",
              " \n",
              " \n",
              "        ...,\n",
              " \n",
              " \n",
              "        [[[0.],\n",
              "          [0.],\n",
              "          [0.],\n",
              "          ...,\n",
              "          [0.],\n",
              "          [0.],\n",
              "          [0.]],\n",
              " \n",
              "         [[0.],\n",
              "          [0.],\n",
              "          [0.],\n",
              "          ...,\n",
              "          [0.],\n",
              "          [0.],\n",
              "          [0.]],\n",
              " \n",
              "         [[0.],\n",
              "          [0.],\n",
              "          [0.],\n",
              "          ...,\n",
              "          [0.],\n",
              "          [0.],\n",
              "          [0.]],\n",
              " \n",
              "         ...,\n",
              " \n",
              "         [[0.],\n",
              "          [0.],\n",
              "          [0.],\n",
              "          ...,\n",
              "          [0.],\n",
              "          [0.],\n",
              "          [0.]],\n",
              " \n",
              "         [[0.],\n",
              "          [0.],\n",
              "          [0.],\n",
              "          ...,\n",
              "          [0.],\n",
              "          [0.],\n",
              "          [0.]],\n",
              " \n",
              "         [[0.],\n",
              "          [0.],\n",
              "          [0.],\n",
              "          ...,\n",
              "          [0.],\n",
              "          [0.],\n",
              "          [0.]]],\n",
              " \n",
              " \n",
              "        [[[0.],\n",
              "          [0.],\n",
              "          [0.],\n",
              "          ...,\n",
              "          [0.],\n",
              "          [0.],\n",
              "          [0.]],\n",
              " \n",
              "         [[0.],\n",
              "          [0.],\n",
              "          [0.],\n",
              "          ...,\n",
              "          [0.],\n",
              "          [0.],\n",
              "          [0.]],\n",
              " \n",
              "         [[0.],\n",
              "          [0.],\n",
              "          [0.],\n",
              "          ...,\n",
              "          [0.],\n",
              "          [0.],\n",
              "          [0.]],\n",
              " \n",
              "         ...,\n",
              " \n",
              "         [[0.],\n",
              "          [0.],\n",
              "          [0.],\n",
              "          ...,\n",
              "          [0.],\n",
              "          [0.],\n",
              "          [0.]],\n",
              " \n",
              "         [[0.],\n",
              "          [0.],\n",
              "          [0.],\n",
              "          ...,\n",
              "          [0.],\n",
              "          [0.],\n",
              "          [0.]],\n",
              " \n",
              "         [[0.],\n",
              "          [0.],\n",
              "          [0.],\n",
              "          ...,\n",
              "          [0.],\n",
              "          [0.],\n",
              "          [0.]]],\n",
              " \n",
              " \n",
              "        [[[0.],\n",
              "          [0.],\n",
              "          [0.],\n",
              "          ...,\n",
              "          [0.],\n",
              "          [0.],\n",
              "          [0.]],\n",
              " \n",
              "         [[0.],\n",
              "          [0.],\n",
              "          [0.],\n",
              "          ...,\n",
              "          [0.],\n",
              "          [0.],\n",
              "          [0.]],\n",
              " \n",
              "         [[0.],\n",
              "          [0.],\n",
              "          [0.],\n",
              "          ...,\n",
              "          [0.],\n",
              "          [0.],\n",
              "          [0.]],\n",
              " \n",
              "         ...,\n",
              " \n",
              "         [[0.],\n",
              "          [0.],\n",
              "          [0.],\n",
              "          ...,\n",
              "          [0.],\n",
              "          [0.],\n",
              "          [0.]],\n",
              " \n",
              "         [[0.],\n",
              "          [0.],\n",
              "          [0.],\n",
              "          ...,\n",
              "          [0.],\n",
              "          [0.],\n",
              "          [0.]],\n",
              " \n",
              "         [[0.],\n",
              "          [0.],\n",
              "          [0.],\n",
              "          ...,\n",
              "          [0.],\n",
              "          [0.],\n",
              "          [0.]]]], dtype=float32),\n",
              " array([[1., 0., 0., ..., 0., 0., 0.],\n",
              "        [1., 0., 0., ..., 0., 0., 0.],\n",
              "        [0., 1., 0., ..., 0., 0., 0.],\n",
              "        ...,\n",
              "        [0., 0., 0., ..., 0., 1., 0.],\n",
              "        [0., 0., 0., ..., 0., 0., 1.],\n",
              "        [0., 0., 0., ..., 0., 0., 1.]], dtype=float32),\n",
              " [array([[[[0.        ],\n",
              "           [0.        ],\n",
              "           [0.        ],\n",
              "           ...,\n",
              "           [0.        ],\n",
              "           [0.        ],\n",
              "           [0.        ]],\n",
              "  \n",
              "          [[0.        ],\n",
              "           [0.        ],\n",
              "           [0.        ],\n",
              "           ...,\n",
              "           [0.        ],\n",
              "           [0.        ],\n",
              "           [0.        ]],\n",
              "  \n",
              "          [[0.        ],\n",
              "           [0.        ],\n",
              "           [0.        ],\n",
              "           ...,\n",
              "           [0.        ],\n",
              "           [0.        ],\n",
              "           [0.        ]],\n",
              "  \n",
              "          ...,\n",
              "  \n",
              "          [[0.        ],\n",
              "           [0.        ],\n",
              "           [0.        ],\n",
              "           ...,\n",
              "           [0.        ],\n",
              "           [0.        ],\n",
              "           [0.        ]],\n",
              "  \n",
              "          [[0.        ],\n",
              "           [0.        ],\n",
              "           [0.        ],\n",
              "           ...,\n",
              "           [0.        ],\n",
              "           [0.        ],\n",
              "           [0.        ]],\n",
              "  \n",
              "          [[0.        ],\n",
              "           [0.        ],\n",
              "           [0.        ],\n",
              "           ...,\n",
              "           [0.        ],\n",
              "           [0.        ],\n",
              "           [0.        ]]],\n",
              "  \n",
              "  \n",
              "         [[[0.        ],\n",
              "           [0.        ],\n",
              "           [0.        ],\n",
              "           ...,\n",
              "           [0.        ],\n",
              "           [0.        ],\n",
              "           [0.        ]],\n",
              "  \n",
              "          [[0.        ],\n",
              "           [0.        ],\n",
              "           [0.        ],\n",
              "           ...,\n",
              "           [0.        ],\n",
              "           [0.        ],\n",
              "           [0.        ]],\n",
              "  \n",
              "          [[0.        ],\n",
              "           [0.        ],\n",
              "           [0.        ],\n",
              "           ...,\n",
              "           [0.        ],\n",
              "           [0.        ],\n",
              "           [0.        ]],\n",
              "  \n",
              "          ...,\n",
              "  \n",
              "          [[0.        ],\n",
              "           [0.        ],\n",
              "           [0.        ],\n",
              "           ...,\n",
              "           [0.        ],\n",
              "           [0.        ],\n",
              "           [0.        ]],\n",
              "  \n",
              "          [[0.        ],\n",
              "           [0.        ],\n",
              "           [0.        ],\n",
              "           ...,\n",
              "           [0.        ],\n",
              "           [0.        ],\n",
              "           [0.        ]],\n",
              "  \n",
              "          [[0.        ],\n",
              "           [0.        ],\n",
              "           [0.        ],\n",
              "           ...,\n",
              "           [0.        ],\n",
              "           [0.        ],\n",
              "           [0.        ]]],\n",
              "  \n",
              "  \n",
              "         [[[0.        ],\n",
              "           [0.        ],\n",
              "           [0.        ],\n",
              "           ...,\n",
              "           [0.        ],\n",
              "           [0.        ],\n",
              "           [0.        ]],\n",
              "  \n",
              "          [[0.        ],\n",
              "           [0.        ],\n",
              "           [0.        ],\n",
              "           ...,\n",
              "           [0.        ],\n",
              "           [0.        ],\n",
              "           [0.        ]],\n",
              "  \n",
              "          [[0.        ],\n",
              "           [0.        ],\n",
              "           [0.        ],\n",
              "           ...,\n",
              "           [0.        ],\n",
              "           [0.        ],\n",
              "           [0.        ]],\n",
              "  \n",
              "          ...,\n",
              "  \n",
              "          [[0.        ],\n",
              "           [0.        ],\n",
              "           [0.        ],\n",
              "           ...,\n",
              "           [0.        ],\n",
              "           [0.        ],\n",
              "           [0.        ]],\n",
              "  \n",
              "          [[0.        ],\n",
              "           [0.        ],\n",
              "           [0.        ],\n",
              "           ...,\n",
              "           [0.        ],\n",
              "           [0.        ],\n",
              "           [0.        ]],\n",
              "  \n",
              "          [[0.        ],\n",
              "           [0.        ],\n",
              "           [0.        ],\n",
              "           ...,\n",
              "           [0.        ],\n",
              "           [0.        ],\n",
              "           [0.        ]]],\n",
              "  \n",
              "  \n",
              "         ...,\n",
              "  \n",
              "  \n",
              "         [[[0.        ],\n",
              "           [0.        ],\n",
              "           [0.        ],\n",
              "           ...,\n",
              "           [0.        ],\n",
              "           [0.        ],\n",
              "           [0.        ]],\n",
              "  \n",
              "          [[0.        ],\n",
              "           [0.        ],\n",
              "           [0.        ],\n",
              "           ...,\n",
              "           [0.        ],\n",
              "           [0.        ],\n",
              "           [0.        ]],\n",
              "  \n",
              "          [[0.        ],\n",
              "           [0.        ],\n",
              "           [0.        ],\n",
              "           ...,\n",
              "           [0.        ],\n",
              "           [0.        ],\n",
              "           [0.        ]],\n",
              "  \n",
              "          ...,\n",
              "  \n",
              "          [[0.        ],\n",
              "           [0.        ],\n",
              "           [0.        ],\n",
              "           ...,\n",
              "           [0.        ],\n",
              "           [0.        ],\n",
              "           [0.        ]],\n",
              "  \n",
              "          [[0.        ],\n",
              "           [0.        ],\n",
              "           [0.        ],\n",
              "           ...,\n",
              "           [0.        ],\n",
              "           [0.        ],\n",
              "           [0.        ]],\n",
              "  \n",
              "          [[0.        ],\n",
              "           [0.        ],\n",
              "           [0.        ],\n",
              "           ...,\n",
              "           [0.        ],\n",
              "           [0.        ],\n",
              "           [0.        ]]],\n",
              "  \n",
              "  \n",
              "         [[[0.        ],\n",
              "           [0.        ],\n",
              "           [0.        ],\n",
              "           ...,\n",
              "           [0.        ],\n",
              "           [0.        ],\n",
              "           [0.20392157]],\n",
              "  \n",
              "          [[0.        ],\n",
              "           [0.        ],\n",
              "           [0.        ],\n",
              "           ...,\n",
              "           [0.        ],\n",
              "           [0.        ],\n",
              "           [0.00392157]],\n",
              "  \n",
              "          [[0.        ],\n",
              "           [0.        ],\n",
              "           [0.        ],\n",
              "           ...,\n",
              "           [0.        ],\n",
              "           [0.        ],\n",
              "           [0.        ]],\n",
              "  \n",
              "          ...,\n",
              "  \n",
              "          [[0.        ],\n",
              "           [0.        ],\n",
              "           [0.        ],\n",
              "           ...,\n",
              "           [0.        ],\n",
              "           [0.        ],\n",
              "           [0.05098039]],\n",
              "  \n",
              "          [[0.        ],\n",
              "           [0.        ],\n",
              "           [0.        ],\n",
              "           ...,\n",
              "           [0.        ],\n",
              "           [0.        ],\n",
              "           [0.2627451 ]],\n",
              "  \n",
              "          [[0.        ],\n",
              "           [0.        ],\n",
              "           [0.        ],\n",
              "           ...,\n",
              "           [0.        ],\n",
              "           [0.        ],\n",
              "           [0.12941177]]],\n",
              "  \n",
              "  \n",
              "         [[[0.20392157],\n",
              "           [0.        ],\n",
              "           [0.        ],\n",
              "           ...,\n",
              "           [0.        ],\n",
              "           [0.        ],\n",
              "           [0.        ]],\n",
              "  \n",
              "          [[0.00392157],\n",
              "           [0.        ],\n",
              "           [0.        ],\n",
              "           ...,\n",
              "           [0.        ],\n",
              "           [0.        ],\n",
              "           [0.        ]],\n",
              "  \n",
              "          [[0.        ],\n",
              "           [0.        ],\n",
              "           [0.        ],\n",
              "           ...,\n",
              "           [0.        ],\n",
              "           [0.        ],\n",
              "           [0.        ]],\n",
              "  \n",
              "          ...,\n",
              "  \n",
              "          [[0.        ],\n",
              "           [0.        ],\n",
              "           [0.        ],\n",
              "           ...,\n",
              "           [0.        ],\n",
              "           [0.00392157],\n",
              "           [0.00784314]],\n",
              "  \n",
              "          [[0.        ],\n",
              "           [0.        ],\n",
              "           [0.        ],\n",
              "           ...,\n",
              "           [0.        ],\n",
              "           [0.        ],\n",
              "           [0.        ]],\n",
              "  \n",
              "          [[0.09803922],\n",
              "           [0.22745098],\n",
              "           [0.18431373],\n",
              "           ...,\n",
              "           [0.03921569],\n",
              "           [0.00784314],\n",
              "           [0.19607843]]]], dtype=float32),\n",
              "  array([[0., 0., 0., ..., 0., 0., 0.],\n",
              "         [0., 0., 0., ..., 0., 0., 0.],\n",
              "         [0., 0., 0., ..., 0., 0., 0.],\n",
              "         ...,\n",
              "         [0., 0., 0., ..., 0., 0., 0.],\n",
              "         [0., 0., 0., ..., 0., 0., 0.],\n",
              "         [0., 0., 0., ..., 0., 0., 0.]], dtype=float32)])"
            ]
          },
          "execution_count": 14,
          "metadata": {},
          "output_type": "execute_result"
        }
      ],
      "source": [
        "from sklearn.utils import shuffle                                               # Importing shuffle function from sklearn library.\n",
        "train_x, train_y = shuffle(train_x, train_y)                                    # Now we shuffle x & y in the training set.\n",
        "test_x, test_y, shuffle(test_x, test_y)                                         # Then x & y in our testing set."
      ]
    },
    {
      "cell_type": "markdown",
      "metadata": {
        "id": "D5HOU_HZITMP"
      },
      "source": [
        "## Building Model"
      ]
    },
    {
      "cell_type": "markdown",
      "metadata": {
        "id": "cgwL5WP4eXwR"
      },
      "source": [
        "8- Define CNN model, \n",
        "\n",
        "We will use tensorflow for the creation of our model, we will start by creating a function for use to create our model, we will set the activation, optimizer and our initializing method as variables for us to easly modifiy it in the hyper-parameter tuning phase.\n",
        "\n",
        "We will start by creating our first convolutional layer and setting up the input shape, we will create additional pooling layer along with a batch normalization layer, then we will add three convolutional layers with the same structure but the the double size of filters each layer.\n",
        "\n",
        "Then we will flatten our layer preparing it for the fully connected layers, we will use a small neurons numbered layer with a drop out layer, batch normalization and we will add an L2 regularizer so we will control the overfitting."
      ]
    },
    {
      "cell_type": "code",
      "execution_count": 15,
      "metadata": {
        "id": "-Utu1cNKOL_j"
      },
      "outputs": [],
      "source": [
        "def create_model(activation='relu', optimizer='adam', kernel_initializer='he_normal'):\n",
        "  model = tf.keras.models.Sequential([\n",
        "      tf.keras.layers.Conv2D(32, (3,3), padding='same', input_shape=(32, 32, 1), activation= activation, kernel_initializer=kernel_initializer),\n",
        "      tf.keras.layers.MaxPool2D(2,2),\n",
        "      tf.keras.layers.BatchNormalization(),\n",
        "      tf.keras.layers.Conv2D(64, (3,3), padding='same', activation= activation, kernel_initializer=kernel_initializer),\n",
        "      tf.keras.layers.MaxPool2D(2,2),\n",
        "      tf.keras.layers.Dropout(0.2),\n",
        "      tf.keras.layers.BatchNormalization(),\n",
        "      tf.keras.layers.Conv2D(128, (3,3), padding='same', activation= activation, kernel_initializer=kernel_initializer),\n",
        "      tf.keras.layers.MaxPool2D(2,2),\n",
        "      tf.keras.layers.Dropout(0.2),\n",
        "      tf.keras.layers.BatchNormalization(),\n",
        "\n",
        "      tf.keras.layers.Flatten(),\n",
        "      \n",
        "      tf.keras.layers.Dense(32, activation= activation, kernel_initializer=kernel_initializer, kernel_regularizer='l2'),\n",
        "      tf.keras.layers.BatchNormalization(),\n",
        "      tf.keras.layers.Dropout(0.2),\n",
        "      tf.keras.layers.Dense(28, activation= 'softmax', kernel_initializer=kernel_initializer)\n",
        "  ])\n",
        "\n",
        "  model.compile(optimizer=optimizer,\n",
        "                loss='categorical_crossentropy', #single output\n",
        "                metrics=['accuracy'])\n",
        "  return model"
      ]
    },
    {
      "cell_type": "code",
      "execution_count": 16,
      "metadata": {
        "colab": {
          "base_uri": "https://localhost:8080/"
        },
        "id": "mU_Zu7dd_DEf",
        "outputId": "7dda50de-a611-4d33-e327-750876d85dff"
      },
      "outputs": [
        {
          "name": "stdout",
          "output_type": "stream",
          "text": [
            "Model: \"sequential\"\n",
            "_________________________________________________________________\n",
            "Layer (type)                 Output Shape              Param #   \n",
            "=================================================================\n",
            "conv2d (Conv2D)              (None, 32, 32, 32)        320       \n",
            "_________________________________________________________________\n",
            "max_pooling2d (MaxPooling2D) (None, 16, 16, 32)        0         \n",
            "_________________________________________________________________\n",
            "batch_normalization (BatchNo (None, 16, 16, 32)        128       \n",
            "_________________________________________________________________\n",
            "conv2d_1 (Conv2D)            (None, 16, 16, 64)        18496     \n",
            "_________________________________________________________________\n",
            "max_pooling2d_1 (MaxPooling2 (None, 8, 8, 64)          0         \n",
            "_________________________________________________________________\n",
            "dropout (Dropout)            (None, 8, 8, 64)          0         \n",
            "_________________________________________________________________\n",
            "batch_normalization_1 (Batch (None, 8, 8, 64)          256       \n",
            "_________________________________________________________________\n",
            "conv2d_2 (Conv2D)            (None, 8, 8, 128)         73856     \n",
            "_________________________________________________________________\n",
            "max_pooling2d_2 (MaxPooling2 (None, 4, 4, 128)         0         \n",
            "_________________________________________________________________\n",
            "dropout_1 (Dropout)          (None, 4, 4, 128)         0         \n",
            "_________________________________________________________________\n",
            "batch_normalization_2 (Batch (None, 4, 4, 128)         512       \n",
            "_________________________________________________________________\n",
            "flatten (Flatten)            (None, 2048)              0         \n",
            "_________________________________________________________________\n",
            "dense (Dense)                (None, 32)                65568     \n",
            "_________________________________________________________________\n",
            "batch_normalization_3 (Batch (None, 32)                128       \n",
            "_________________________________________________________________\n",
            "dropout_2 (Dropout)          (None, 32)                0         \n",
            "_________________________________________________________________\n",
            "dense_1 (Dense)              (None, 28)                924       \n",
            "=================================================================\n",
            "Total params: 160,188\n",
            "Trainable params: 159,676\n",
            "Non-trainable params: 512\n",
            "_________________________________________________________________\n"
          ]
        }
      ],
      "source": [
        "model = create_model()                                                          # Now we created an instance of a model with our custom architefture.\n",
        "model.summary()                                                                 # Then we display our model's summary."
      ]
    },
    {
      "cell_type": "markdown",
      "metadata": {
        "id": "VHKs776RWUQN"
      },
      "source": [
        "9- Let's start selecting the best hyperparamters for our model, we will do this by performing grid parameter tuning, which indicates performing all the possible combinations for our hyperparameters, then selecting the combination by selecting the best model."
      ]
    },
    {
      "cell_type": "code",
      "execution_count": 17,
      "metadata": {
        "colab": {
          "base_uri": "https://localhost:8080/"
        },
        "id": "CFUUZXhMWOTx",
        "outputId": "fa201f7f-24a6-452f-a2f5-a91942ade16e"
      },
      "outputs": [
        {
          "name": "stdout",
          "output_type": "stream",
          "text": [
            "Number of different parameter combinations = 24\n"
          ]
        }
      ],
      "source": [
        "seed = 7                                                                        # Select a fixed seed\n",
        "np.random.seed(seed)                                                            # Specifing the seed for our random generator\n",
        "\n",
        "optimizer = ['RMSprop', 'Adam', 'Adagrad', 'Nadam']                             # Available optimizers\n",
        "kernel_initializer = ['normal', 'uniform']                                      # Available initializing methods\n",
        "activation = ['relu', 'linear', 'tanh']                                         # Available activation functions\n",
        "\n",
        "param_grid = dict(optimizer=optimizer,                                          # Creating the grid\n",
        "                  kernel_initializer=kernel_initializer,\n",
        "                  activation=activation)\n",
        "\n",
        "parameters_number = 1\n",
        "for x in param_grid:\n",
        "  parameters_number = parameters_number * len(param_grid[x]) \n",
        "print(\"Number of different parameter combinations = {}\".format(parameters_number))"
      ]
    },
    {
      "cell_type": "code",
      "execution_count": 18,
      "metadata": {
        "colab": {
          "base_uri": "https://localhost:8080/"
        },
        "id": "5KrL1wuCWTku",
        "outputId": "5a3f6c6a-76a4-48e6-f2fc-e26750c68753"
      },
      "outputs": [
        {
          "name": "stdout",
          "output_type": "stream",
          "text": [
            "{'optimizer': 'RMSprop', 'kernel_initializer': 'normal', 'activation': 'relu'}\n",
            "Epoch 1/5\n",
            "147/147 [==============================] - 9s 21ms/step - loss: 3.9324 - accuracy: 0.2316 - val_loss: 4.1451 - val_accuracy: 0.0357\n",
            "Epoch 2/5\n",
            "147/147 [==============================] - 3s 20ms/step - loss: 1.7356 - accuracy: 0.6833 - val_loss: 3.8953 - val_accuracy: 0.0585\n",
            "Epoch 3/5\n",
            "147/147 [==============================] - 3s 22ms/step - loss: 0.8992 - accuracy: 0.8533 - val_loss: 4.0637 - val_accuracy: 0.0779\n",
            "Epoch 4/5\n",
            "147/147 [==============================] - 3s 22ms/step - loss: 0.5716 - accuracy: 0.9006 - val_loss: 1.7410 - val_accuracy: 0.4660\n",
            "Epoch 5/5\n",
            "147/147 [==============================] - 3s 22ms/step - loss: 0.4188 - accuracy: 0.9252 - val_loss: 0.6926 - val_accuracy: 0.8261\n",
            "=============================================================================\n",
            "{'optimizer': 'RMSprop', 'kernel_initializer': 'uniform', 'activation': 'relu'}\n",
            "Epoch 1/5\n",
            "147/147 [==============================] - 5s 23ms/step - loss: 3.1366 - accuracy: 0.3077 - val_loss: 4.1034 - val_accuracy: 0.0357\n",
            "Epoch 2/5\n",
            "147/147 [==============================] - 3s 21ms/step - loss: 1.4121 - accuracy: 0.7780 - val_loss: 5.5278 - val_accuracy: 0.0357\n",
            "Epoch 3/5\n",
            "147/147 [==============================] - 3s 21ms/step - loss: 0.6966 - accuracy: 0.8955 - val_loss: 5.6531 - val_accuracy: 0.0357\n",
            "Epoch 4/5\n",
            "147/147 [==============================] - 3s 21ms/step - loss: 0.4526 - accuracy: 0.9193 - val_loss: 2.0209 - val_accuracy: 0.3157\n",
            "Epoch 5/5\n",
            "147/147 [==============================] - 3s 21ms/step - loss: 0.3375 - accuracy: 0.9457 - val_loss: 1.0057 - val_accuracy: 0.6625\n",
            "=============================================================================\n",
            "{'optimizer': 'RMSprop', 'kernel_initializer': 'normal', 'activation': 'linear'}\n",
            "Epoch 1/5\n",
            "147/147 [==============================] - 5s 20ms/step - loss: 3.6925 - accuracy: 0.3009 - val_loss: 3.9721 - val_accuracy: 0.0357\n",
            "Epoch 2/5\n",
            "147/147 [==============================] - 3s 21ms/step - loss: 1.6343 - accuracy: 0.7096 - val_loss: 3.9916 - val_accuracy: 0.0414\n",
            "Epoch 3/5\n",
            "147/147 [==============================] - 3s 22ms/step - loss: 0.9758 - accuracy: 0.8239 - val_loss: 3.0391 - val_accuracy: 0.1818\n",
            "Epoch 4/5\n",
            "147/147 [==============================] - 3s 23ms/step - loss: 0.6627 - accuracy: 0.8770 - val_loss: 1.5405 - val_accuracy: 0.5260\n",
            "Epoch 5/5\n",
            "147/147 [==============================] - 3s 22ms/step - loss: 0.5159 - accuracy: 0.9066 - val_loss: 0.5685 - val_accuracy: 0.8790\n",
            "=============================================================================\n",
            "{'optimizer': 'RMSprop', 'kernel_initializer': 'uniform', 'activation': 'linear'}\n",
            "Epoch 1/5\n",
            "147/147 [==============================] - 5s 20ms/step - loss: 3.0632 - accuracy: 0.3400 - val_loss: 4.1231 - val_accuracy: 0.0357\n",
            "Epoch 2/5\n",
            "147/147 [==============================] - 3s 19ms/step - loss: 1.5336 - accuracy: 0.7306 - val_loss: 4.6455 - val_accuracy: 0.0357\n",
            "Epoch 3/5\n",
            "147/147 [==============================] - 3s 21ms/step - loss: 0.8889 - accuracy: 0.8435 - val_loss: 3.5245 - val_accuracy: 0.0938\n",
            "Epoch 4/5\n",
            "147/147 [==============================] - 3s 21ms/step - loss: 0.6090 - accuracy: 0.8894 - val_loss: 1.0523 - val_accuracy: 0.7803\n",
            "Epoch 5/5\n",
            "147/147 [==============================] - 3s 21ms/step - loss: 0.4709 - accuracy: 0.9131 - val_loss: 0.6402 - val_accuracy: 0.8457\n",
            "=============================================================================\n",
            "{'optimizer': 'RMSprop', 'kernel_initializer': 'normal', 'activation': 'tanh'}\n",
            "Epoch 1/5\n",
            "147/147 [==============================] - 6s 22ms/step - loss: 4.0976 - accuracy: 0.1829 - val_loss: 3.5707 - val_accuracy: 0.0627\n",
            "Epoch 2/5\n",
            "147/147 [==============================] - 3s 20ms/step - loss: 2.1596 - accuracy: 0.5420 - val_loss: 4.1681 - val_accuracy: 0.0362\n",
            "Epoch 3/5\n",
            "147/147 [==============================] - 3s 21ms/step - loss: 1.2914 - accuracy: 0.7164 - val_loss: 4.6300 - val_accuracy: 0.0360\n",
            "Epoch 4/5\n",
            "147/147 [==============================] - 3s 21ms/step - loss: 0.8699 - accuracy: 0.8149 - val_loss: 4.1570 - val_accuracy: 0.0729\n",
            "Epoch 5/5\n",
            "147/147 [==============================] - 3s 21ms/step - loss: 0.6927 - accuracy: 0.8513 - val_loss: 1.8040 - val_accuracy: 0.5179\n",
            "=============================================================================\n",
            "{'optimizer': 'RMSprop', 'kernel_initializer': 'uniform', 'activation': 'tanh'}\n",
            "Epoch 1/5\n",
            "147/147 [==============================] - 5s 22ms/step - loss: 3.1819 - accuracy: 0.2662 - val_loss: 3.7915 - val_accuracy: 0.0345\n",
            "Epoch 2/5\n",
            "147/147 [==============================] - 3s 20ms/step - loss: 1.6702 - accuracy: 0.6535 - val_loss: 5.3492 - val_accuracy: 0.0345\n",
            "Epoch 3/5\n",
            "147/147 [==============================] - 3s 21ms/step - loss: 1.0020 - accuracy: 0.7997 - val_loss: 4.9167 - val_accuracy: 0.0362\n",
            "Epoch 4/5\n",
            "147/147 [==============================] - 3s 21ms/step - loss: 0.6930 - accuracy: 0.8591 - val_loss: 3.4940 - val_accuracy: 0.2076\n",
            "Epoch 5/5\n",
            "147/147 [==============================] - 3s 22ms/step - loss: 0.5673 - accuracy: 0.8817 - val_loss: 3.4088 - val_accuracy: 0.2728\n",
            "=============================================================================\n",
            "{'optimizer': 'Adam', 'kernel_initializer': 'normal', 'activation': 'relu'}\n",
            "Epoch 1/5\n",
            "147/147 [==============================] - 4s 18ms/step - loss: 4.1064 - accuracy: 0.1901 - val_loss: 4.2796 - val_accuracy: 0.0332\n",
            "Epoch 2/5\n",
            "147/147 [==============================] - 2s 13ms/step - loss: 1.7472 - accuracy: 0.6807 - val_loss: 3.7868 - val_accuracy: 0.0382\n",
            "Epoch 3/5\n",
            "147/147 [==============================] - 2s 13ms/step - loss: 0.9135 - accuracy: 0.8542 - val_loss: 3.2920 - val_accuracy: 0.0603\n",
            "Epoch 4/5\n",
            "147/147 [==============================] - 2s 13ms/step - loss: 0.6005 - accuracy: 0.9008 - val_loss: 1.2797 - val_accuracy: 0.6654\n",
            "Epoch 5/5\n",
            "147/147 [==============================] - 2s 13ms/step - loss: 0.4472 - accuracy: 0.9292 - val_loss: 0.5674 - val_accuracy: 0.8755\n",
            "=============================================================================\n",
            "{'optimizer': 'Adam', 'kernel_initializer': 'uniform', 'activation': 'relu'}\n",
            "Epoch 1/5\n",
            "147/147 [==============================] - 3s 16ms/step - loss: 3.2750 - accuracy: 0.2393 - val_loss: 4.2098 - val_accuracy: 0.0365\n",
            "Epoch 2/5\n",
            "147/147 [==============================] - 2s 13ms/step - loss: 1.4830 - accuracy: 0.7519 - val_loss: 5.5377 - val_accuracy: 0.0357\n",
            "Epoch 3/5\n",
            "147/147 [==============================] - 2s 13ms/step - loss: 0.7486 - accuracy: 0.8926 - val_loss: 5.4876 - val_accuracy: 0.0357\n",
            "Epoch 4/5\n",
            "147/147 [==============================] - 2s 13ms/step - loss: 0.4791 - accuracy: 0.9331 - val_loss: 1.7182 - val_accuracy: 0.4861\n",
            "Epoch 5/5\n",
            "147/147 [==============================] - 2s 14ms/step - loss: 0.3758 - accuracy: 0.9439 - val_loss: 0.5492 - val_accuracy: 0.8857\n",
            "=============================================================================\n",
            "{'optimizer': 'Adam', 'kernel_initializer': 'normal', 'activation': 'linear'}\n",
            "Epoch 1/5\n",
            "147/147 [==============================] - 4s 20ms/step - loss: 3.9091 - accuracy: 0.2453 - val_loss: 4.1632 - val_accuracy: 0.0357\n",
            "Epoch 2/5\n",
            "147/147 [==============================] - 2s 13ms/step - loss: 1.7026 - accuracy: 0.6729 - val_loss: 4.5468 - val_accuracy: 0.0345\n",
            "Epoch 3/5\n",
            "147/147 [==============================] - 2s 13ms/step - loss: 1.0117 - accuracy: 0.8128 - val_loss: 3.4693 - val_accuracy: 0.1094\n",
            "Epoch 4/5\n",
            "147/147 [==============================] - 2s 13ms/step - loss: 0.7234 - accuracy: 0.8700 - val_loss: 2.0463 - val_accuracy: 0.4008\n",
            "Epoch 5/5\n",
            "147/147 [==============================] - 2s 13ms/step - loss: 0.5911 - accuracy: 0.8863 - val_loss: 0.8907 - val_accuracy: 0.7552\n",
            "=============================================================================\n",
            "{'optimizer': 'Adam', 'kernel_initializer': 'uniform', 'activation': 'linear'}\n",
            "Epoch 1/5\n",
            "147/147 [==============================] - 4s 16ms/step - loss: 3.1795 - accuracy: 0.2655 - val_loss: 3.9551 - val_accuracy: 0.0357\n",
            "Epoch 2/5\n",
            "147/147 [==============================] - 2s 14ms/step - loss: 1.5516 - accuracy: 0.7262 - val_loss: 3.8284 - val_accuracy: 0.0714\n",
            "Epoch 3/5\n",
            "147/147 [==============================] - 2s 13ms/step - loss: 0.9092 - accuracy: 0.8490 - val_loss: 3.4152 - val_accuracy: 0.1486\n",
            "Epoch 4/5\n",
            "147/147 [==============================] - 2s 13ms/step - loss: 0.6631 - accuracy: 0.8869 - val_loss: 1.5586 - val_accuracy: 0.5087\n",
            "Epoch 5/5\n",
            "147/147 [==============================] - 2s 13ms/step - loss: 0.5122 - accuracy: 0.9140 - val_loss: 1.1294 - val_accuracy: 0.6297\n",
            "=============================================================================\n",
            "{'optimizer': 'Adam', 'kernel_initializer': 'normal', 'activation': 'tanh'}\n",
            "Epoch 1/5\n",
            "147/147 [==============================] - 4s 17ms/step - loss: 4.2046 - accuracy: 0.1691 - val_loss: 3.9578 - val_accuracy: 0.0345\n",
            "Epoch 2/5\n",
            "147/147 [==============================] - 2s 13ms/step - loss: 2.0710 - accuracy: 0.5561 - val_loss: 5.1506 - val_accuracy: 0.0345\n",
            "Epoch 3/5\n",
            "147/147 [==============================] - 2s 13ms/step - loss: 1.2063 - accuracy: 0.7392 - val_loss: 5.3983 - val_accuracy: 0.0345\n",
            "Epoch 4/5\n",
            "147/147 [==============================] - 2s 13ms/step - loss: 0.8782 - accuracy: 0.8070 - val_loss: 2.4378 - val_accuracy: 0.3309\n",
            "Epoch 5/5\n",
            "147/147 [==============================] - 2s 13ms/step - loss: 0.7198 - accuracy: 0.8535 - val_loss: 2.2680 - val_accuracy: 0.3911\n",
            "=============================================================================\n",
            "{'optimizer': 'Adam', 'kernel_initializer': 'uniform', 'activation': 'tanh'}\n",
            "Epoch 1/5\n",
            "147/147 [==============================] - 4s 17ms/step - loss: 3.2933 - accuracy: 0.2204 - val_loss: 3.8721 - val_accuracy: 0.0345\n",
            "Epoch 2/5\n",
            "147/147 [==============================] - 2s 13ms/step - loss: 1.6867 - accuracy: 0.6555 - val_loss: 5.6504 - val_accuracy: 0.0345\n",
            "Epoch 3/5\n",
            "147/147 [==============================] - 2s 13ms/step - loss: 1.0011 - accuracy: 0.7944 - val_loss: 6.3308 - val_accuracy: 0.0345\n",
            "Epoch 4/5\n",
            "147/147 [==============================] - 2s 12ms/step - loss: 0.7394 - accuracy: 0.8532 - val_loss: 3.6604 - val_accuracy: 0.1776\n",
            "Epoch 5/5\n",
            "147/147 [==============================] - 2s 12ms/step - loss: 0.5884 - accuracy: 0.8803 - val_loss: 2.8875 - val_accuracy: 0.2894\n",
            "=============================================================================\n",
            "{'optimizer': 'Adagrad', 'kernel_initializer': 'normal', 'activation': 'relu'}\n",
            "Epoch 1/5\n",
            "147/147 [==============================] - 3s 15ms/step - loss: 4.9862 - accuracy: 0.0397 - val_loss: 4.9497 - val_accuracy: 0.0384\n",
            "Epoch 2/5\n",
            "147/147 [==============================] - 2s 13ms/step - loss: 4.8729 - accuracy: 0.0598 - val_loss: 4.9201 - val_accuracy: 0.0216\n",
            "Epoch 3/5\n",
            "147/147 [==============================] - 2s 13ms/step - loss: 4.7815 - accuracy: 0.0914 - val_loss: 4.8363 - val_accuracy: 0.0613\n",
            "Epoch 4/5\n",
            "147/147 [==============================] - 2s 13ms/step - loss: 4.7058 - accuracy: 0.1080 - val_loss: 4.6864 - val_accuracy: 0.1431\n",
            "Epoch 5/5\n",
            "147/147 [==============================] - 2s 13ms/step - loss: 4.6216 - accuracy: 0.1438 - val_loss: 4.5469 - val_accuracy: 0.1992\n",
            "=============================================================================\n",
            "{'optimizer': 'Adagrad', 'kernel_initializer': 'uniform', 'activation': 'relu'}\n",
            "Epoch 1/5\n",
            "147/147 [==============================] - 3s 16ms/step - loss: 3.8645 - accuracy: 0.0516 - val_loss: 3.8749 - val_accuracy: 0.0439\n",
            "Epoch 2/5\n",
            "147/147 [==============================] - 2s 13ms/step - loss: 3.7740 - accuracy: 0.1081 - val_loss: 3.8679 - val_accuracy: 0.0365\n",
            "Epoch 3/5\n",
            "147/147 [==============================] - 2s 12ms/step - loss: 3.6885 - accuracy: 0.1504 - val_loss: 3.8287 - val_accuracy: 0.0670\n",
            "Epoch 4/5\n",
            "147/147 [==============================] - 2s 13ms/step - loss: 3.6037 - accuracy: 0.1974 - val_loss: 3.6907 - val_accuracy: 0.1111\n",
            "Epoch 5/5\n",
            "147/147 [==============================] - 2s 13ms/step - loss: 3.5370 - accuracy: 0.2093 - val_loss: 3.5096 - val_accuracy: 0.2436\n",
            "=============================================================================\n",
            "{'optimizer': 'Adagrad', 'kernel_initializer': 'normal', 'activation': 'linear'}\n",
            "Epoch 1/5\n",
            "147/147 [==============================] - 3s 16ms/step - loss: 4.9642 - accuracy: 0.0469 - val_loss: 4.9462 - val_accuracy: 0.0382\n",
            "Epoch 2/5\n",
            "147/147 [==============================] - 2s 13ms/step - loss: 4.8254 - accuracy: 0.0841 - val_loss: 4.8930 - val_accuracy: 0.0360\n",
            "Epoch 3/5\n",
            "147/147 [==============================] - 2s 13ms/step - loss: 4.7117 - accuracy: 0.1212 - val_loss: 4.7886 - val_accuracy: 0.0898\n",
            "Epoch 4/5\n",
            "147/147 [==============================] - 2s 13ms/step - loss: 4.6264 - accuracy: 0.1340 - val_loss: 4.6299 - val_accuracy: 0.1811\n",
            "Epoch 5/5\n",
            "147/147 [==============================] - 2s 13ms/step - loss: 4.5372 - accuracy: 0.1656 - val_loss: 4.4780 - val_accuracy: 0.2403\n",
            "=============================================================================\n",
            "{'optimizer': 'Adagrad', 'kernel_initializer': 'uniform', 'activation': 'linear'}\n",
            "Epoch 1/5\n",
            "147/147 [==============================] - 3s 16ms/step - loss: 3.8488 - accuracy: 0.0692 - val_loss: 3.8702 - val_accuracy: 0.0332\n",
            "Epoch 2/5\n",
            "147/147 [==============================] - 2s 13ms/step - loss: 3.7295 - accuracy: 0.1388 - val_loss: 3.8520 - val_accuracy: 0.0469\n",
            "Epoch 3/5\n",
            "147/147 [==============================] - 2s 13ms/step - loss: 3.6359 - accuracy: 0.1901 - val_loss: 3.7816 - val_accuracy: 0.0769\n",
            "Epoch 4/5\n",
            "147/147 [==============================] - 2s 13ms/step - loss: 3.5561 - accuracy: 0.2152 - val_loss: 3.6365 - val_accuracy: 0.1124\n",
            "Epoch 5/5\n",
            "147/147 [==============================] - 2s 13ms/step - loss: 3.4832 - accuracy: 0.2292 - val_loss: 3.4750 - val_accuracy: 0.2445\n",
            "=============================================================================\n",
            "{'optimizer': 'Adagrad', 'kernel_initializer': 'normal', 'activation': 'tanh'}\n",
            "Epoch 1/5\n",
            "147/147 [==============================] - 4s 17ms/step - loss: 4.9696 - accuracy: 0.0373 - val_loss: 4.9377 - val_accuracy: 0.0407\n",
            "Epoch 2/5\n",
            "147/147 [==============================] - 2s 13ms/step - loss: 4.8685 - accuracy: 0.0737 - val_loss: 4.8635 - val_accuracy: 0.0499\n",
            "Epoch 3/5\n",
            "147/147 [==============================] - 2s 13ms/step - loss: 4.7803 - accuracy: 0.0949 - val_loss: 4.7044 - val_accuracy: 0.1131\n",
            "Epoch 4/5\n",
            "147/147 [==============================] - 2s 13ms/step - loss: 4.6969 - accuracy: 0.1172 - val_loss: 4.5685 - val_accuracy: 0.1855\n",
            "Epoch 5/5\n",
            "147/147 [==============================] - 2s 13ms/step - loss: 4.6187 - accuracy: 0.1504 - val_loss: 4.4715 - val_accuracy: 0.2267\n",
            "=============================================================================\n",
            "{'optimizer': 'Adagrad', 'kernel_initializer': 'uniform', 'activation': 'tanh'}\n",
            "Epoch 1/5\n",
            "147/147 [==============================] - 3s 16ms/step - loss: 3.8630 - accuracy: 0.0540 - val_loss: 3.8678 - val_accuracy: 0.0330\n",
            "Epoch 2/5\n",
            "147/147 [==============================] - 2s 13ms/step - loss: 3.7620 - accuracy: 0.1013 - val_loss: 3.8325 - val_accuracy: 0.0640\n",
            "Epoch 3/5\n",
            "147/147 [==============================] - 2s 13ms/step - loss: 3.6815 - accuracy: 0.1381 - val_loss: 3.7132 - val_accuracy: 0.1178\n",
            "Epoch 4/5\n",
            "147/147 [==============================] - 2s 12ms/step - loss: 3.5969 - accuracy: 0.1739 - val_loss: 3.5363 - val_accuracy: 0.2039\n",
            "Epoch 5/5\n",
            "147/147 [==============================] - 2s 13ms/step - loss: 3.5306 - accuracy: 0.1960 - val_loss: 3.4197 - val_accuracy: 0.2634\n",
            "=============================================================================\n",
            "{'optimizer': 'Nadam', 'kernel_initializer': 'normal', 'activation': 'relu'}\n",
            "Epoch 1/5\n",
            "147/147 [==============================] - 7s 31ms/step - loss: 4.1100 - accuracy: 0.2077 - val_loss: 4.7013 - val_accuracy: 0.0332\n",
            "Epoch 2/5\n",
            "147/147 [==============================] - 4s 30ms/step - loss: 1.7277 - accuracy: 0.6982 - val_loss: 4.9374 - val_accuracy: 0.0357\n",
            "Epoch 3/5\n",
            "147/147 [==============================] - 4s 30ms/step - loss: 0.9036 - accuracy: 0.8469 - val_loss: 4.7229 - val_accuracy: 0.0486\n",
            "Epoch 4/5\n",
            "147/147 [==============================] - 5s 31ms/step - loss: 0.5777 - accuracy: 0.9073 - val_loss: 2.6501 - val_accuracy: 0.1625\n",
            "Epoch 5/5\n",
            "147/147 [==============================] - 5s 31ms/step - loss: 0.4384 - accuracy: 0.9355 - val_loss: 0.6598 - val_accuracy: 0.8351\n",
            "=============================================================================\n",
            "{'optimizer': 'Nadam', 'kernel_initializer': 'uniform', 'activation': 'relu'}\n",
            "Epoch 1/5\n",
            "147/147 [==============================] - 7s 31ms/step - loss: 3.2751 - accuracy: 0.2692 - val_loss: 4.4827 - val_accuracy: 0.0365\n",
            "Epoch 2/5\n",
            "147/147 [==============================] - 4s 29ms/step - loss: 1.4495 - accuracy: 0.7572 - val_loss: 5.7631 - val_accuracy: 0.0357\n",
            "Epoch 3/5\n",
            "147/147 [==============================] - 5s 31ms/step - loss: 0.7390 - accuracy: 0.8923 - val_loss: 5.3275 - val_accuracy: 0.0357\n",
            "Epoch 4/5\n",
            "147/147 [==============================] - 5s 31ms/step - loss: 0.4719 - accuracy: 0.9285 - val_loss: 2.4939 - val_accuracy: 0.1880\n",
            "Epoch 5/5\n",
            "147/147 [==============================] - 5s 32ms/step - loss: 0.3684 - accuracy: 0.9467 - val_loss: 0.4086 - val_accuracy: 0.9251\n",
            "=============================================================================\n",
            "{'optimizer': 'Nadam', 'kernel_initializer': 'normal', 'activation': 'linear'}\n",
            "Epoch 1/5\n",
            "147/147 [==============================] - 7s 29ms/step - loss: 3.9654 - accuracy: 0.2562 - val_loss: 4.1772 - val_accuracy: 0.0486\n",
            "Epoch 2/5\n",
            "147/147 [==============================] - 4s 30ms/step - loss: 1.6813 - accuracy: 0.6936 - val_loss: 4.6962 - val_accuracy: 0.1200\n",
            "Epoch 3/5\n",
            "147/147 [==============================] - 4s 31ms/step - loss: 0.9929 - accuracy: 0.8274 - val_loss: 4.3104 - val_accuracy: 0.1476\n",
            "Epoch 4/5\n",
            "147/147 [==============================] - 5s 32ms/step - loss: 0.7071 - accuracy: 0.8700 - val_loss: 1.7935 - val_accuracy: 0.4536\n",
            "Epoch 5/5\n",
            "147/147 [==============================] - 5s 31ms/step - loss: 0.5435 - accuracy: 0.9044 - val_loss: 0.7266 - val_accuracy: 0.8232\n",
            "=============================================================================\n",
            "{'optimizer': 'Nadam', 'kernel_initializer': 'uniform', 'activation': 'linear'}\n",
            "Epoch 1/5\n",
            "147/147 [==============================] - 6s 27ms/step - loss: 3.1950 - accuracy: 0.3002 - val_loss: 3.6163 - val_accuracy: 0.0357\n",
            "Epoch 2/5\n",
            "147/147 [==============================] - 4s 29ms/step - loss: 1.5379 - accuracy: 0.7298 - val_loss: 3.7632 - val_accuracy: 0.0471\n",
            "Epoch 3/5\n",
            "147/147 [==============================] - 4s 30ms/step - loss: 0.8946 - accuracy: 0.8522 - val_loss: 3.5538 - val_accuracy: 0.1322\n",
            "Epoch 4/5\n",
            "147/147 [==============================] - 4s 30ms/step - loss: 0.6079 - accuracy: 0.9064 - val_loss: 2.3476 - val_accuracy: 0.2659\n",
            "Epoch 5/5\n",
            "147/147 [==============================] - 4s 30ms/step - loss: 0.4862 - accuracy: 0.9200 - val_loss: 0.8263 - val_accuracy: 0.7773\n",
            "=============================================================================\n",
            "{'optimizer': 'Nadam', 'kernel_initializer': 'normal', 'activation': 'tanh'}\n",
            "Epoch 1/5\n",
            "147/147 [==============================] - 7s 31ms/step - loss: 4.2185 - accuracy: 0.1725 - val_loss: 4.1149 - val_accuracy: 0.0771\n",
            "Epoch 2/5\n",
            "147/147 [==============================] - 4s 30ms/step - loss: 2.1436 - accuracy: 0.5252 - val_loss: 4.6604 - val_accuracy: 0.0345\n",
            "Epoch 3/5\n",
            "147/147 [==============================] - 5s 32ms/step - loss: 1.2580 - accuracy: 0.7206 - val_loss: 5.4195 - val_accuracy: 0.0345\n",
            "Epoch 4/5\n",
            "147/147 [==============================] - 5s 31ms/step - loss: 0.8795 - accuracy: 0.8119 - val_loss: 4.3619 - val_accuracy: 0.0851\n",
            "Epoch 5/5\n",
            "147/147 [==============================] - 5s 31ms/step - loss: 0.7011 - accuracy: 0.8506 - val_loss: 4.2308 - val_accuracy: 0.1535\n",
            "=============================================================================\n",
            "{'optimizer': 'Nadam', 'kernel_initializer': 'uniform', 'activation': 'tanh'}\n",
            "Epoch 1/5\n",
            "147/147 [==============================] - 7s 29ms/step - loss: 3.2573 - accuracy: 0.2545 - val_loss: 4.0977 - val_accuracy: 0.0345\n",
            "Epoch 2/5\n",
            "147/147 [==============================] - 4s 29ms/step - loss: 1.5544 - accuracy: 0.7017 - val_loss: 5.2475 - val_accuracy: 0.0345\n",
            "Epoch 3/5\n",
            "147/147 [==============================] - 5s 31ms/step - loss: 0.9029 - accuracy: 0.8317 - val_loss: 5.1474 - val_accuracy: 0.0350\n",
            "Epoch 4/5\n",
            "147/147 [==============================] - 4s 31ms/step - loss: 0.6589 - accuracy: 0.8824 - val_loss: 4.5362 - val_accuracy: 0.0685\n",
            "Epoch 5/5\n",
            "147/147 [==============================] - 5s 31ms/step - loss: 0.5594 - accuracy: 0.8949 - val_loss: 5.3238 - val_accuracy: 0.0908\n",
            "=============================================================================\n"
          ]
        }
      ],
      "source": [
        "epochs = 5                                                                      # Specifing the number of epochs for each combination\n",
        "batch_size = 64                                                                 # Setting the batch size\n",
        "\n",
        "# Here we will create our different models and run them for 5 epochs each.\n",
        "for a,b,c in [(x,y,z) for x in optimizer for z in activation for y in kernel_initializer]:\n",
        "    params = {'optimizer' : a , 'kernel_initializer' : b , 'activation' : c}\n",
        "    print(params)\n",
        "    curr_model = create_model(optimizer=a, kernel_initializer=b, activation=c)\n",
        "    curr_model.fit(train_x, train_y, \n",
        "                    validation_split=0.3,\n",
        "                    epochs=epochs, batch_size=batch_size, verbose=1)\n",
        "    print(\"=============================================================================\")"
      ]
    },
    {
      "cell_type": "markdown",
      "metadata": {
        "id": "SVqu1J7VeQvS"
      },
      "source": [
        "10- After looping through all the combinations it was found that the best combination is:\n",
        "\n",
        " [RMS Prop, Normal Initialization, Relu Activation]\n",
        "\n",
        " Then lets use them to build our final model."
      ]
    },
    {
      "cell_type": "code",
      "execution_count": 19,
      "metadata": {
        "id": "TQ61tTgthNX3"
      },
      "outputs": [],
      "source": [
        "model = create_model(optimizer='RMSprop',                                       # We create our model with the specified hyper parameters\n",
        "                     kernel_initializer='normal',\n",
        "                     activation='relu')"
      ]
    },
    {
      "cell_type": "code",
      "execution_count": 20,
      "metadata": {
        "colab": {
          "base_uri": "https://localhost:8080/"
        },
        "id": "VU8nilxQWjhp",
        "outputId": "8e7b57c3-f15a-4ae0-8b9b-96018dbc8852"
      },
      "outputs": [
        {
          "name": "stdout",
          "output_type": "stream",
          "text": [
            "Epoch 1/30\n",
            "147/147 [==============================] - 5s 20ms/step - loss: 3.8681 - accuracy: 0.2667 - val_loss: 4.3134 - val_accuracy: 0.0357\n",
            "\n",
            "Epoch 00001: val_loss improved from inf to 4.31339, saving model to Saved Model Character\\weights.hdf5\n",
            "Epoch 2/30\n",
            "147/147 [==============================] - 4s 24ms/step - loss: 1.6400 - accuracy: 0.7183 - val_loss: 4.7792 - val_accuracy: 0.0357\n",
            "\n",
            "Epoch 00002: val_loss did not improve from 4.31339\n",
            "Epoch 3/30\n",
            "147/147 [==============================] - 3s 20ms/step - loss: 0.8462 - accuracy: 0.8709 - val_loss: 4.6279 - val_accuracy: 0.0357\n",
            "\n",
            "Epoch 00003: val_loss did not improve from 4.31339\n",
            "Epoch 4/30\n",
            "147/147 [==============================] - 3s 21ms/step - loss: 0.5350 - accuracy: 0.9101 - val_loss: 1.9863 - val_accuracy: 0.3797\n",
            "\n",
            "Epoch 00004: val_loss improved from 4.31339 to 1.98635, saving model to Saved Model Character\\weights.hdf5\n",
            "Epoch 5/30\n",
            "147/147 [==============================] - 3s 21ms/step - loss: 0.3934 - accuracy: 0.9292 - val_loss: 0.5781 - val_accuracy: 0.8752\n",
            "\n",
            "Epoch 00005: val_loss improved from 1.98635 to 0.57812, saving model to Saved Model Character\\weights.hdf5\n",
            "Epoch 6/30\n",
            "147/147 [==============================] - 3s 21ms/step - loss: 0.3308 - accuracy: 0.9441 - val_loss: 0.4308 - val_accuracy: 0.9077\n",
            "\n",
            "Epoch 00006: val_loss improved from 0.57812 to 0.43077, saving model to Saved Model Character\\weights.hdf5\n",
            "Epoch 7/30\n",
            "147/147 [==============================] - 4s 26ms/step - loss: 0.2927 - accuracy: 0.9537 - val_loss: 0.3506 - val_accuracy: 0.9149\n",
            "\n",
            "Epoch 00007: val_loss improved from 0.43077 to 0.35059, saving model to Saved Model Character\\weights.hdf5\n",
            "Epoch 8/30\n",
            "147/147 [==============================] - 5s 31ms/step - loss: 0.2722 - accuracy: 0.9510 - val_loss: 0.3058 - val_accuracy: 0.9422\n",
            "\n",
            "Epoch 00008: val_loss improved from 0.35059 to 0.30576, saving model to Saved Model Character\\weights.hdf5\n",
            "Epoch 9/30\n",
            "147/147 [==============================] - 3s 22ms/step - loss: 0.2404 - accuracy: 0.9634 - val_loss: 0.3264 - val_accuracy: 0.9246\n",
            "\n",
            "Epoch 00009: val_loss did not improve from 0.30576\n",
            "Epoch 10/30\n",
            "147/147 [==============================] - 2s 16ms/step - loss: 0.2381 - accuracy: 0.9577 - val_loss: 0.2810 - val_accuracy: 0.9474\n",
            "\n",
            "Epoch 00010: val_loss improved from 0.30576 to 0.28097, saving model to Saved Model Character\\weights.hdf5\n",
            "Epoch 11/30\n",
            "147/147 [==============================] - 2s 16ms/step - loss: 0.2262 - accuracy: 0.9592 - val_loss: 0.3276 - val_accuracy: 0.9281\n",
            "\n",
            "Epoch 00011: val_loss did not improve from 0.28097\n",
            "Epoch 12/30\n",
            "147/147 [==============================] - 2s 16ms/step - loss: 0.2283 - accuracy: 0.9596 - val_loss: 0.5041 - val_accuracy: 0.8566\n",
            "\n",
            "Epoch 00012: val_loss did not improve from 0.28097\n",
            "Epoch 13/30\n",
            "147/147 [==============================] - 2s 16ms/step - loss: 0.2191 - accuracy: 0.9608 - val_loss: 0.2878 - val_accuracy: 0.9415\n",
            "\n",
            "Epoch 00013: val_loss did not improve from 0.28097\n",
            "Epoch 14/30\n",
            "147/147 [==============================] - 2s 16ms/step - loss: 0.1964 - accuracy: 0.9703 - val_loss: 0.2892 - val_accuracy: 0.9415\n",
            "\n",
            "Epoch 00014: val_loss did not improve from 0.28097\n",
            "Epoch 15/30\n",
            "147/147 [==============================] - 2s 16ms/step - loss: 0.2068 - accuracy: 0.9606 - val_loss: 0.2911 - val_accuracy: 0.9325\n",
            "\n",
            "Epoch 00015: val_loss did not improve from 0.28097\n",
            "Epoch 16/30\n",
            "147/147 [==============================] - 2s 16ms/step - loss: 0.1967 - accuracy: 0.9677 - val_loss: 0.3129 - val_accuracy: 0.9355\n",
            "\n",
            "Epoch 00016: val_loss did not improve from 0.28097\n",
            "Epoch 17/30\n",
            "147/147 [==============================] - 2s 16ms/step - loss: 0.1935 - accuracy: 0.9690 - val_loss: 0.2675 - val_accuracy: 0.9454\n",
            "\n",
            "Epoch 00017: val_loss improved from 0.28097 to 0.26752, saving model to Saved Model Character\\weights.hdf5\n",
            "Epoch 18/30\n",
            "147/147 [==============================] - 2s 16ms/step - loss: 0.1782 - accuracy: 0.9676 - val_loss: 0.3357 - val_accuracy: 0.9283\n",
            "\n",
            "Epoch 00018: val_loss did not improve from 0.26752\n",
            "Epoch 19/30\n",
            "147/147 [==============================] - 2s 16ms/step - loss: 0.1719 - accuracy: 0.9717 - val_loss: 0.3264 - val_accuracy: 0.9249\n",
            "\n",
            "Epoch 00019: val_loss did not improve from 0.26752\n",
            "Epoch 20/30\n",
            "147/147 [==============================] - 2s 16ms/step - loss: 0.1851 - accuracy: 0.9652 - val_loss: 0.2320 - val_accuracy: 0.9554\n",
            "\n",
            "Epoch 00020: val_loss improved from 0.26752 to 0.23197, saving model to Saved Model Character\\weights.hdf5\n",
            "Epoch 21/30\n",
            "147/147 [==============================] - 2s 17ms/step - loss: 0.1729 - accuracy: 0.9717 - val_loss: 0.2933 - val_accuracy: 0.9380\n",
            "\n",
            "Epoch 00021: val_loss did not improve from 0.23197\n",
            "Epoch 22/30\n",
            "147/147 [==============================] - 2s 16ms/step - loss: 0.1663 - accuracy: 0.9725 - val_loss: 0.2414 - val_accuracy: 0.9539\n",
            "\n",
            "Epoch 00022: val_loss did not improve from 0.23197\n",
            "Epoch 23/30\n",
            "147/147 [==============================] - 2s 16ms/step - loss: 0.1621 - accuracy: 0.9739 - val_loss: 0.3918 - val_accuracy: 0.9134\n",
            "\n",
            "Epoch 00023: val_loss did not improve from 0.23197\n",
            "Epoch 24/30\n",
            "147/147 [==============================] - 2s 16ms/step - loss: 0.1596 - accuracy: 0.9738 - val_loss: 0.2886 - val_accuracy: 0.9385\n",
            "\n",
            "Epoch 00024: val_loss did not improve from 0.23197\n",
            "Epoch 25/30\n",
            "147/147 [==============================] - 2s 17ms/step - loss: 0.1589 - accuracy: 0.9732 - val_loss: 0.2542 - val_accuracy: 0.9511\n",
            "\n",
            "Epoch 00025: val_loss did not improve from 0.23197\n",
            "Epoch 26/30\n",
            "147/147 [==============================] - 2s 17ms/step - loss: 0.1564 - accuracy: 0.9774 - val_loss: 0.2805 - val_accuracy: 0.9454\n",
            "\n",
            "Epoch 00026: val_loss did not improve from 0.23197\n",
            "Epoch 27/30\n",
            "147/147 [==============================] - 2s 17ms/step - loss: 0.1438 - accuracy: 0.9784 - val_loss: 0.2472 - val_accuracy: 0.9539\n",
            "\n",
            "Epoch 00027: val_loss did not improve from 0.23197\n",
            "Epoch 28/30\n",
            "147/147 [==============================] - 2s 16ms/step - loss: 0.1514 - accuracy: 0.9749 - val_loss: 0.2799 - val_accuracy: 0.9402\n",
            "\n",
            "Epoch 00028: val_loss did not improve from 0.23197\n",
            "Epoch 29/30\n",
            "147/147 [==============================] - 2s 16ms/step - loss: 0.1563 - accuracy: 0.9741 - val_loss: 0.2445 - val_accuracy: 0.9489\n",
            "\n",
            "Epoch 00029: val_loss did not improve from 0.23197\n",
            "Epoch 30/30\n",
            "147/147 [==============================] - 2s 16ms/step - loss: 0.1514 - accuracy: 0.9752 - val_loss: 0.2884 - val_accuracy: 0.9338\n",
            "\n",
            "Epoch 00030: val_loss did not improve from 0.23197\n"
          ]
        }
      ],
      "source": [
        "from tensorflow.keras.callbacks import ModelCheckpoint  # We will import a call back to save the best epoch's weights\n",
        "\n",
        "checkpointer = ModelCheckpoint(filepath='Saved Model Character/weights.hdf5', verbose=1, save_best_only=True)\n",
        "history = model.fit(train_x,                                                    \n",
        "                    train_y, \n",
        "                    validation_split= 0.3,                                      # The model will split the data into 30% of validation.\n",
        "                    epochs=30,                                                  # We will run the model for 30 epochs\n",
        "                    batch_size=64,                                              # We will have a batch size of 64\n",
        "                    callbacks=[checkpointer])                                   # Finally we will use the imported callback"
      ]
    },
    {
      "cell_type": "markdown",
      "metadata": {
        "id": "0SVekRtfMnNv"
      },
      "source": [
        "11- Now lets load the best epoch's weights and then evaluate our model using the test set."
      ]
    },
    {
      "cell_type": "code",
      "execution_count": 21,
      "metadata": {
        "colab": {
          "base_uri": "https://localhost:8080/"
        },
        "id": "JHbED-hWhqSL",
        "outputId": "bb2f5a21-a595-4e80-cc20-6bec95c60bee"
      },
      "outputs": [
        {
          "name": "stdout",
          "output_type": "stream",
          "text": [
            "105/105 [==============================] - 1s 4ms/step - loss: 0.2241 - accuracy: 0.9610\n"
          ]
        },
        {
          "data": {
            "text/plain": [
              "[0.22412239015102386, 0.9610118865966797]"
            ]
          },
          "execution_count": 21,
          "metadata": {},
          "output_type": "execute_result"
        }
      ],
      "source": [
        "model.load_weights('Saved Model Character/weights.hdf5')                                              # Loading the best weights        \n",
        "model.evaluate(test_x, test_y)                                                  # Evaluating our model"
      ]
    },
    {
      "cell_type": "markdown",
      "metadata": {
        "id": "yhqkkDkyM5IH"
      },
      "source": [
        "12- Lets plot our training journy to check the performance and verify that the model is not overfitting."
      ]
    },
    {
      "cell_type": "code",
      "execution_count": 22,
      "metadata": {
        "colab": {
          "base_uri": "https://localhost:8080/",
          "height": 590
        },
        "id": "h9RYi7P3hmyr",
        "outputId": "fa95493f-7a46-4841-bb17-e46e918e9c4e"
      },
      "outputs": [
        {
          "data": {
            "text/plain": [
              "Text(0.5, 1.0, 'Training and validation loss')"
            ]
          },
          "execution_count": 22,
          "metadata": {},
          "output_type": "execute_result"
        },
        {
          "data": {
            "image/png": "[encoded data removed]",
            "text/plain": [
              "<Figure size 432x288 with 1 Axes>"
            ]
          },
          "metadata": {
            "needs_background": "light"
          },
          "output_type": "display_data"
        },
        {
          "data": {
            "image/png": "[encoded data removed]",
            "text/plain": [
              "<Figure size 432x288 with 1 Axes>"
            ]
          },
          "metadata": {
            "needs_background": "light"
          },
          "output_type": "display_data"
        }
      ],
      "source": [
        "# PLOT LOSS AND ACCURACY\n",
        "%matplotlib inline\n",
        "\n",
        "import matplotlib.image  as mpimg\n",
        "import matplotlib.pyplot as plt\n",
        "\n",
        "#-----------------------------------------------------------\n",
        "# Retrieve a list of list results on training and test data\n",
        "# sets for each training epoch\n",
        "#-----------------------------------------------------------\n",
        "acc=history.history['accuracy']\n",
        "val_acc=history.history['val_accuracy']\n",
        "loss=history.history['loss']\n",
        "val_loss=history.history['val_loss']\n",
        "\n",
        "epochs=range(len(acc)) # Get number of epochs\n",
        "\n",
        "#------------------------------------------------\n",
        "# Plot training and validation accuracy per epoch\n",
        "#------------------------------------------------\n",
        "plt.plot(history.history['accuracy'])\n",
        "plt.plot(history.history['val_accuracy'])\n",
        "plt.title('Training and validation accuracy')\n",
        "plt.legend(['train', 'val'], loc='upper left')\n",
        "plt.ylabel('accuracy')\n",
        "plt.xlabel('epoch')\n",
        "plt.figure()\n",
        "\n",
        "#------------------------------------------------\n",
        "# Plot training and validation loss per epoch\n",
        "#------------------------------------------------\n",
        "plt.plot(history.history['loss'])\n",
        "plt.plot(history.history['val_loss'])\n",
        "plt.title('Training and validation loss')\n",
        "plt.legend(['train', 'val'], loc='upper left')\n",
        "plt.ylabel('accuracy')\n",
        "plt.xlabel('epoch')\n",
        "\n",
        "\n",
        "plt.title('Training and validation loss')\n"
      ]
    },
    {
      "cell_type": "markdown",
      "metadata": {
        "id": "VT9JGH7_NIZ3"
      },
      "source": [
        "12- Lets save our model for later use"
      ]
    },
    {
      "cell_type": "code",
      "execution_count": 23,
      "metadata": {
        "id": "3x0xPEg0VylP"
      },
      "outputs": [],
      "source": [
        "model.save('Saved Model Character/characters.h5')"
      ]
    },
    {
      "cell_type": "markdown",
      "metadata": {
        "id": "mAXt2eg3NVfH"
      },
      "source": [
        "##Testing Model"
      ]
    },
    {
      "cell_type": "markdown",
      "metadata": {
        "id": "3UibIHxwNaPf"
      },
      "source": [
        "Now lets load our model and test it on our custom images."
      ]
    },
    {
      "cell_type": "code",
      "execution_count": 1,
      "metadata": {
        "colab": {
          "base_uri": "https://localhost:8080/"
        },
        "id": "DwQmSGXykYv2",
        "outputId": "90deba52-f107-4c5c-df40-8fcdcef0ba46"
      },
      "outputs": [
        {
          "ename": "TypeError",
          "evalue": "('Keyword argument not understood:', 'groups')",
          "output_type": "error",
          "traceback": [
            "\u001b[1;31m---------------------------------------------------------------------------\u001b[0m",
            "\u001b[1;31mTypeError\u001b[0m                                 Traceback (most recent call last)",
            "\u001b[1;32m<ipython-input-1-bbae61b1e369>\u001b[0m in \u001b[0;36m<module>\u001b[1;34m\u001b[0m\n\u001b[0;32m      1\u001b[0m \u001b[1;32mimport\u001b[0m \u001b[0mtensorflow\u001b[0m \u001b[1;32mas\u001b[0m \u001b[0mtf\u001b[0m\u001b[1;33m\u001b[0m\u001b[1;33m\u001b[0m\u001b[0m\n\u001b[1;32m----> 2\u001b[1;33m \u001b[0mmodel\u001b[0m \u001b[1;33m=\u001b[0m \u001b[0mtf\u001b[0m\u001b[1;33m.\u001b[0m\u001b[0mkeras\u001b[0m\u001b[1;33m.\u001b[0m\u001b[0mmodels\u001b[0m\u001b[1;33m.\u001b[0m\u001b[0mload_model\u001b[0m\u001b[1;33m(\u001b[0m\u001b[1;34m'Saved Model Character/characters.h5'\u001b[0m\u001b[1;33m)\u001b[0m                      \u001b[1;31m# Now we load the model\u001b[0m\u001b[1;33m\u001b[0m\u001b[1;33m\u001b[0m\u001b[0m\n\u001b[0m",
            "\u001b[1;32m~\\anaconda3\\envs\\tf-_-gepuk\\lib\\site-packages\\tensorflow_core\\python\\keras\\saving\\save.py\u001b[0m in \u001b[0;36mload_model\u001b[1;34m(filepath, custom_objects, compile)\u001b[0m\n\u001b[0;32m    144\u001b[0m   if (h5py is not None and (\n\u001b[0;32m    145\u001b[0m       isinstance(filepath, h5py.File) or h5py.is_hdf5(filepath))):\n\u001b[1;32m--> 146\u001b[1;33m     \u001b[1;32mreturn\u001b[0m \u001b[0mhdf5_format\u001b[0m\u001b[1;33m.\u001b[0m\u001b[0mload_model_from_hdf5\u001b[0m\u001b[1;33m(\u001b[0m\u001b[0mfilepath\u001b[0m\u001b[1;33m,\u001b[0m \u001b[0mcustom_objects\u001b[0m\u001b[1;33m,\u001b[0m \u001b[0mcompile\u001b[0m\u001b[1;33m)\u001b[0m\u001b[1;33m\u001b[0m\u001b[1;33m\u001b[0m\u001b[0m\n\u001b[0m\u001b[0;32m    147\u001b[0m \u001b[1;33m\u001b[0m\u001b[0m\n\u001b[0;32m    148\u001b[0m   \u001b[1;32mif\u001b[0m \u001b[0misinstance\u001b[0m\u001b[1;33m(\u001b[0m\u001b[0mfilepath\u001b[0m\u001b[1;33m,\u001b[0m \u001b[0msix\u001b[0m\u001b[1;33m.\u001b[0m\u001b[0mstring_types\u001b[0m\u001b[1;33m)\u001b[0m\u001b[1;33m:\u001b[0m\u001b[1;33m\u001b[0m\u001b[1;33m\u001b[0m\u001b[0m\n",
            "\u001b[1;32m~\\anaconda3\\envs\\tf-_-gepuk\\lib\\site-packages\\tensorflow_core\\python\\keras\\saving\\hdf5_format.py\u001b[0m in \u001b[0;36mload_model_from_hdf5\u001b[1;34m(filepath, custom_objects, compile)\u001b[0m\n\u001b[0;32m    166\u001b[0m     \u001b[0mmodel_config\u001b[0m \u001b[1;33m=\u001b[0m \u001b[0mjson\u001b[0m\u001b[1;33m.\u001b[0m\u001b[0mloads\u001b[0m\u001b[1;33m(\u001b[0m\u001b[0mmodel_config\u001b[0m\u001b[1;33m.\u001b[0m\u001b[0mdecode\u001b[0m\u001b[1;33m(\u001b[0m\u001b[1;34m'utf-8'\u001b[0m\u001b[1;33m)\u001b[0m\u001b[1;33m)\u001b[0m\u001b[1;33m\u001b[0m\u001b[1;33m\u001b[0m\u001b[0m\n\u001b[0;32m    167\u001b[0m     model = model_config_lib.model_from_config(model_config,\n\u001b[1;32m--> 168\u001b[1;33m                                                custom_objects=custom_objects)\n\u001b[0m\u001b[0;32m    169\u001b[0m \u001b[1;33m\u001b[0m\u001b[0m\n\u001b[0;32m    170\u001b[0m     \u001b[1;31m# set weights\u001b[0m\u001b[1;33m\u001b[0m\u001b[1;33m\u001b[0m\u001b[1;33m\u001b[0m\u001b[0m\n",
            "\u001b[1;32m~\\anaconda3\\envs\\tf-_-gepuk\\lib\\site-packages\\tensorflow_core\\python\\keras\\saving\\model_config.py\u001b[0m in \u001b[0;36mmodel_from_config\u001b[1;34m(config, custom_objects)\u001b[0m\n\u001b[0;32m     53\u001b[0m                     '`Sequential.from_config(config)`?')\n\u001b[0;32m     54\u001b[0m   \u001b[1;32mfrom\u001b[0m \u001b[0mtensorflow\u001b[0m\u001b[1;33m.\u001b[0m\u001b[0mpython\u001b[0m\u001b[1;33m.\u001b[0m\u001b[0mkeras\u001b[0m\u001b[1;33m.\u001b[0m\u001b[0mlayers\u001b[0m \u001b[1;32mimport\u001b[0m \u001b[0mdeserialize\u001b[0m  \u001b[1;31m# pylint: disable=g-import-not-at-top\u001b[0m\u001b[1;33m\u001b[0m\u001b[1;33m\u001b[0m\u001b[0m\n\u001b[1;32m---> 55\u001b[1;33m   \u001b[1;32mreturn\u001b[0m \u001b[0mdeserialize\u001b[0m\u001b[1;33m(\u001b[0m\u001b[0mconfig\u001b[0m\u001b[1;33m,\u001b[0m \u001b[0mcustom_objects\u001b[0m\u001b[1;33m=\u001b[0m\u001b[0mcustom_objects\u001b[0m\u001b[1;33m)\u001b[0m\u001b[1;33m\u001b[0m\u001b[1;33m\u001b[0m\u001b[0m\n\u001b[0m\u001b[0;32m     56\u001b[0m \u001b[1;33m\u001b[0m\u001b[0m\n\u001b[0;32m     57\u001b[0m \u001b[1;33m\u001b[0m\u001b[0m\n",
            "\u001b[1;32m~\\anaconda3\\envs\\tf-_-gepuk\\lib\\site-packages\\tensorflow_core\\python\\keras\\layers\\serialization.py\u001b[0m in \u001b[0;36mdeserialize\u001b[1;34m(config, custom_objects)\u001b[0m\n\u001b[0;32m    104\u001b[0m       \u001b[0mmodule_objects\u001b[0m\u001b[1;33m=\u001b[0m\u001b[0mglobs\u001b[0m\u001b[1;33m,\u001b[0m\u001b[1;33m\u001b[0m\u001b[1;33m\u001b[0m\u001b[0m\n\u001b[0;32m    105\u001b[0m       \u001b[0mcustom_objects\u001b[0m\u001b[1;33m=\u001b[0m\u001b[0mcustom_objects\u001b[0m\u001b[1;33m,\u001b[0m\u001b[1;33m\u001b[0m\u001b[1;33m\u001b[0m\u001b[0m\n\u001b[1;32m--> 106\u001b[1;33m       printable_module_name='layer')\n\u001b[0m",
            "\u001b[1;32m~\\anaconda3\\envs\\tf-_-gepuk\\lib\\site-packages\\tensorflow_core\\python\\keras\\utils\\generic_utils.py\u001b[0m in \u001b[0;36mdeserialize_keras_object\u001b[1;34m(identifier, module_objects, custom_objects, printable_module_name)\u001b[0m\n\u001b[0;32m    301\u001b[0m             custom_objects=dict(\n\u001b[0;32m    302\u001b[0m                 \u001b[0mlist\u001b[0m\u001b[1;33m(\u001b[0m\u001b[0m_GLOBAL_CUSTOM_OBJECTS\u001b[0m\u001b[1;33m.\u001b[0m\u001b[0mitems\u001b[0m\u001b[1;33m(\u001b[0m\u001b[1;33m)\u001b[0m\u001b[1;33m)\u001b[0m \u001b[1;33m+\u001b[0m\u001b[1;33m\u001b[0m\u001b[1;33m\u001b[0m\u001b[0m\n\u001b[1;32m--> 303\u001b[1;33m                 list(custom_objects.items())))\n\u001b[0m\u001b[0;32m    304\u001b[0m       \u001b[1;32mwith\u001b[0m \u001b[0mCustomObjectScope\u001b[0m\u001b[1;33m(\u001b[0m\u001b[0mcustom_objects\u001b[0m\u001b[1;33m)\u001b[0m\u001b[1;33m:\u001b[0m\u001b[1;33m\u001b[0m\u001b[1;33m\u001b[0m\u001b[0m\n\u001b[0;32m    305\u001b[0m         \u001b[1;32mreturn\u001b[0m \u001b[0mcls\u001b[0m\u001b[1;33m.\u001b[0m\u001b[0mfrom_config\u001b[0m\u001b[1;33m(\u001b[0m\u001b[0mcls_config\u001b[0m\u001b[1;33m)\u001b[0m\u001b[1;33m\u001b[0m\u001b[1;33m\u001b[0m\u001b[0m\n",
            "\u001b[1;32m~\\anaconda3\\envs\\tf-_-gepuk\\lib\\site-packages\\tensorflow_core\\python\\keras\\engine\\sequential.py\u001b[0m in \u001b[0;36mfrom_config\u001b[1;34m(cls, config, custom_objects)\u001b[0m\n\u001b[0;32m    375\u001b[0m     \u001b[1;32mfor\u001b[0m \u001b[0mlayer_config\u001b[0m \u001b[1;32min\u001b[0m \u001b[0mlayer_configs\u001b[0m\u001b[1;33m:\u001b[0m\u001b[1;33m\u001b[0m\u001b[1;33m\u001b[0m\u001b[0m\n\u001b[0;32m    376\u001b[0m       layer = layer_module.deserialize(layer_config,\n\u001b[1;32m--> 377\u001b[1;33m                                        custom_objects=custom_objects)\n\u001b[0m\u001b[0;32m    378\u001b[0m       \u001b[0mmodel\u001b[0m\u001b[1;33m.\u001b[0m\u001b[0madd\u001b[0m\u001b[1;33m(\u001b[0m\u001b[0mlayer\u001b[0m\u001b[1;33m)\u001b[0m\u001b[1;33m\u001b[0m\u001b[1;33m\u001b[0m\u001b[0m\n\u001b[0;32m    379\u001b[0m     \u001b[1;32mif\u001b[0m \u001b[1;32mnot\u001b[0m \u001b[0mmodel\u001b[0m\u001b[1;33m.\u001b[0m\u001b[0minputs\u001b[0m \u001b[1;32mand\u001b[0m \u001b[0mbuild_input_shape\u001b[0m\u001b[1;33m:\u001b[0m\u001b[1;33m\u001b[0m\u001b[1;33m\u001b[0m\u001b[0m\n",
            "\u001b[1;32m~\\anaconda3\\envs\\tf-_-gepuk\\lib\\site-packages\\tensorflow_core\\python\\keras\\layers\\serialization.py\u001b[0m in \u001b[0;36mdeserialize\u001b[1;34m(config, custom_objects)\u001b[0m\n\u001b[0;32m    104\u001b[0m       \u001b[0mmodule_objects\u001b[0m\u001b[1;33m=\u001b[0m\u001b[0mglobs\u001b[0m\u001b[1;33m,\u001b[0m\u001b[1;33m\u001b[0m\u001b[1;33m\u001b[0m\u001b[0m\n\u001b[0;32m    105\u001b[0m       \u001b[0mcustom_objects\u001b[0m\u001b[1;33m=\u001b[0m\u001b[0mcustom_objects\u001b[0m\u001b[1;33m,\u001b[0m\u001b[1;33m\u001b[0m\u001b[1;33m\u001b[0m\u001b[0m\n\u001b[1;32m--> 106\u001b[1;33m       printable_module_name='layer')\n\u001b[0m",
            "\u001b[1;32m~\\anaconda3\\envs\\tf-_-gepuk\\lib\\site-packages\\tensorflow_core\\python\\keras\\utils\\generic_utils.py\u001b[0m in \u001b[0;36mdeserialize_keras_object\u001b[1;34m(identifier, module_objects, custom_objects, printable_module_name)\u001b[0m\n\u001b[0;32m    303\u001b[0m                 list(custom_objects.items())))\n\u001b[0;32m    304\u001b[0m       \u001b[1;32mwith\u001b[0m \u001b[0mCustomObjectScope\u001b[0m\u001b[1;33m(\u001b[0m\u001b[0mcustom_objects\u001b[0m\u001b[1;33m)\u001b[0m\u001b[1;33m:\u001b[0m\u001b[1;33m\u001b[0m\u001b[1;33m\u001b[0m\u001b[0m\n\u001b[1;32m--> 305\u001b[1;33m         \u001b[1;32mreturn\u001b[0m \u001b[0mcls\u001b[0m\u001b[1;33m.\u001b[0m\u001b[0mfrom_config\u001b[0m\u001b[1;33m(\u001b[0m\u001b[0mcls_config\u001b[0m\u001b[1;33m)\u001b[0m\u001b[1;33m\u001b[0m\u001b[1;33m\u001b[0m\u001b[0m\n\u001b[0m\u001b[0;32m    306\u001b[0m     \u001b[1;32melse\u001b[0m\u001b[1;33m:\u001b[0m\u001b[1;33m\u001b[0m\u001b[1;33m\u001b[0m\u001b[0m\n\u001b[0;32m    307\u001b[0m       \u001b[1;31m# Then `cls` may be a function returning a class.\u001b[0m\u001b[1;33m\u001b[0m\u001b[1;33m\u001b[0m\u001b[1;33m\u001b[0m\u001b[0m\n",
            "\u001b[1;32m~\\anaconda3\\envs\\tf-_-gepuk\\lib\\site-packages\\tensorflow_core\\python\\keras\\engine\\base_layer.py\u001b[0m in \u001b[0;36mfrom_config\u001b[1;34m(cls, config)\u001b[0m\n\u001b[0;32m    517\u001b[0m         \u001b[0mA\u001b[0m \u001b[0mlayer\u001b[0m \u001b[0minstance\u001b[0m\u001b[1;33m.\u001b[0m\u001b[1;33m\u001b[0m\u001b[1;33m\u001b[0m\u001b[0m\n\u001b[0;32m    518\u001b[0m     \"\"\"\n\u001b[1;32m--> 519\u001b[1;33m     \u001b[1;32mreturn\u001b[0m \u001b[0mcls\u001b[0m\u001b[1;33m(\u001b[0m\u001b[1;33m**\u001b[0m\u001b[0mconfig\u001b[0m\u001b[1;33m)\u001b[0m\u001b[1;33m\u001b[0m\u001b[1;33m\u001b[0m\u001b[0m\n\u001b[0m\u001b[0;32m    520\u001b[0m \u001b[1;33m\u001b[0m\u001b[0m\n\u001b[0;32m    521\u001b[0m   \u001b[1;32mdef\u001b[0m \u001b[0mcompute_output_shape\u001b[0m\u001b[1;33m(\u001b[0m\u001b[0mself\u001b[0m\u001b[1;33m,\u001b[0m \u001b[0minput_shape\u001b[0m\u001b[1;33m)\u001b[0m\u001b[1;33m:\u001b[0m\u001b[1;33m\u001b[0m\u001b[1;33m\u001b[0m\u001b[0m\n",
            "\u001b[1;32m~\\anaconda3\\envs\\tf-_-gepuk\\lib\\site-packages\\tensorflow_core\\python\\keras\\layers\\convolutional.py\u001b[0m in \u001b[0;36m__init__\u001b[1;34m(self, filters, kernel_size, strides, padding, data_format, dilation_rate, activation, use_bias, kernel_initializer, bias_initializer, kernel_regularizer, bias_regularizer, activity_regularizer, kernel_constraint, bias_constraint, **kwargs)\u001b[0m\n\u001b[0;32m    525\u001b[0m         \u001b[0mkernel_constraint\u001b[0m\u001b[1;33m=\u001b[0m\u001b[0mconstraints\u001b[0m\u001b[1;33m.\u001b[0m\u001b[0mget\u001b[0m\u001b[1;33m(\u001b[0m\u001b[0mkernel_constraint\u001b[0m\u001b[1;33m)\u001b[0m\u001b[1;33m,\u001b[0m\u001b[1;33m\u001b[0m\u001b[1;33m\u001b[0m\u001b[0m\n\u001b[0;32m    526\u001b[0m         \u001b[0mbias_constraint\u001b[0m\u001b[1;33m=\u001b[0m\u001b[0mconstraints\u001b[0m\u001b[1;33m.\u001b[0m\u001b[0mget\u001b[0m\u001b[1;33m(\u001b[0m\u001b[0mbias_constraint\u001b[0m\u001b[1;33m)\u001b[0m\u001b[1;33m,\u001b[0m\u001b[1;33m\u001b[0m\u001b[1;33m\u001b[0m\u001b[0m\n\u001b[1;32m--> 527\u001b[1;33m         **kwargs)\n\u001b[0m\u001b[0;32m    528\u001b[0m \u001b[1;33m\u001b[0m\u001b[0m\n\u001b[0;32m    529\u001b[0m \u001b[1;33m\u001b[0m\u001b[0m\n",
            "\u001b[1;32m~\\anaconda3\\envs\\tf-_-gepuk\\lib\\site-packages\\tensorflow_core\\python\\keras\\layers\\convolutional.py\u001b[0m in \u001b[0;36m__init__\u001b[1;34m(self, rank, filters, kernel_size, strides, padding, data_format, dilation_rate, activation, use_bias, kernel_initializer, bias_initializer, kernel_regularizer, bias_regularizer, activity_regularizer, kernel_constraint, bias_constraint, trainable, name, **kwargs)\u001b[0m\n\u001b[0;32m    120\u001b[0m         \u001b[0mname\u001b[0m\u001b[1;33m=\u001b[0m\u001b[0mname\u001b[0m\u001b[1;33m,\u001b[0m\u001b[1;33m\u001b[0m\u001b[1;33m\u001b[0m\u001b[0m\n\u001b[0;32m    121\u001b[0m         \u001b[0mactivity_regularizer\u001b[0m\u001b[1;33m=\u001b[0m\u001b[0mregularizers\u001b[0m\u001b[1;33m.\u001b[0m\u001b[0mget\u001b[0m\u001b[1;33m(\u001b[0m\u001b[0mactivity_regularizer\u001b[0m\u001b[1;33m)\u001b[0m\u001b[1;33m,\u001b[0m\u001b[1;33m\u001b[0m\u001b[1;33m\u001b[0m\u001b[0m\n\u001b[1;32m--> 122\u001b[1;33m         **kwargs)\n\u001b[0m\u001b[0;32m    123\u001b[0m     \u001b[0mself\u001b[0m\u001b[1;33m.\u001b[0m\u001b[0mrank\u001b[0m \u001b[1;33m=\u001b[0m \u001b[0mrank\u001b[0m\u001b[1;33m\u001b[0m\u001b[1;33m\u001b[0m\u001b[0m\n\u001b[0;32m    124\u001b[0m     \u001b[0mself\u001b[0m\u001b[1;33m.\u001b[0m\u001b[0mfilters\u001b[0m \u001b[1;33m=\u001b[0m \u001b[0mfilters\u001b[0m\u001b[1;33m\u001b[0m\u001b[1;33m\u001b[0m\u001b[0m\n",
            "\u001b[1;32m~\\anaconda3\\envs\\tf-_-gepuk\\lib\\site-packages\\tensorflow_core\\python\\training\\tracking\\base.py\u001b[0m in \u001b[0;36m_method_wrapper\u001b[1;34m(self, *args, **kwargs)\u001b[0m\n\u001b[0;32m    455\u001b[0m     \u001b[0mself\u001b[0m\u001b[1;33m.\u001b[0m\u001b[0m_self_setattr_tracking\u001b[0m \u001b[1;33m=\u001b[0m \u001b[1;32mFalse\u001b[0m  \u001b[1;31m# pylint: disable=protected-access\u001b[0m\u001b[1;33m\u001b[0m\u001b[1;33m\u001b[0m\u001b[0m\n\u001b[0;32m    456\u001b[0m     \u001b[1;32mtry\u001b[0m\u001b[1;33m:\u001b[0m\u001b[1;33m\u001b[0m\u001b[1;33m\u001b[0m\u001b[0m\n\u001b[1;32m--> 457\u001b[1;33m       \u001b[0mresult\u001b[0m \u001b[1;33m=\u001b[0m \u001b[0mmethod\u001b[0m\u001b[1;33m(\u001b[0m\u001b[0mself\u001b[0m\u001b[1;33m,\u001b[0m \u001b[1;33m*\u001b[0m\u001b[0margs\u001b[0m\u001b[1;33m,\u001b[0m \u001b[1;33m**\u001b[0m\u001b[0mkwargs\u001b[0m\u001b[1;33m)\u001b[0m\u001b[1;33m\u001b[0m\u001b[1;33m\u001b[0m\u001b[0m\n\u001b[0m\u001b[0;32m    458\u001b[0m     \u001b[1;32mfinally\u001b[0m\u001b[1;33m:\u001b[0m\u001b[1;33m\u001b[0m\u001b[1;33m\u001b[0m\u001b[0m\n\u001b[0;32m    459\u001b[0m       \u001b[0mself\u001b[0m\u001b[1;33m.\u001b[0m\u001b[0m_self_setattr_tracking\u001b[0m \u001b[1;33m=\u001b[0m \u001b[0mprevious_value\u001b[0m  \u001b[1;31m# pylint: disable=protected-access\u001b[0m\u001b[1;33m\u001b[0m\u001b[1;33m\u001b[0m\u001b[0m\n",
            "\u001b[1;32m~\\anaconda3\\envs\\tf-_-gepuk\\lib\\site-packages\\tensorflow_core\\python\\keras\\engine\\base_layer.py\u001b[0m in \u001b[0;36m__init__\u001b[1;34m(self, trainable, name, dtype, dynamic, **kwargs)\u001b[0m\n\u001b[0;32m    184\u001b[0m     }\n\u001b[0;32m    185\u001b[0m     \u001b[1;31m# Validate optional keyword arguments.\u001b[0m\u001b[1;33m\u001b[0m\u001b[1;33m\u001b[0m\u001b[1;33m\u001b[0m\u001b[0m\n\u001b[1;32m--> 186\u001b[1;33m     \u001b[0mgeneric_utils\u001b[0m\u001b[1;33m.\u001b[0m\u001b[0mvalidate_kwargs\u001b[0m\u001b[1;33m(\u001b[0m\u001b[0mkwargs\u001b[0m\u001b[1;33m,\u001b[0m \u001b[0mallowed_kwargs\u001b[0m\u001b[1;33m)\u001b[0m\u001b[1;33m\u001b[0m\u001b[1;33m\u001b[0m\u001b[0m\n\u001b[0m\u001b[0;32m    187\u001b[0m \u001b[1;33m\u001b[0m\u001b[0m\n\u001b[0;32m    188\u001b[0m     \u001b[1;31m# Mutable properties\u001b[0m\u001b[1;33m\u001b[0m\u001b[1;33m\u001b[0m\u001b[1;33m\u001b[0m\u001b[0m\n",
            "\u001b[1;32m~\\anaconda3\\envs\\tf-_-gepuk\\lib\\site-packages\\tensorflow_core\\python\\keras\\utils\\generic_utils.py\u001b[0m in \u001b[0;36mvalidate_kwargs\u001b[1;34m(kwargs, allowed_kwargs, error_message)\u001b[0m\n\u001b[0;32m    716\u001b[0m   \u001b[1;32mfor\u001b[0m \u001b[0mkwarg\u001b[0m \u001b[1;32min\u001b[0m \u001b[0mkwargs\u001b[0m\u001b[1;33m:\u001b[0m\u001b[1;33m\u001b[0m\u001b[1;33m\u001b[0m\u001b[0m\n\u001b[0;32m    717\u001b[0m     \u001b[1;32mif\u001b[0m \u001b[0mkwarg\u001b[0m \u001b[1;32mnot\u001b[0m \u001b[1;32min\u001b[0m \u001b[0mallowed_kwargs\u001b[0m\u001b[1;33m:\u001b[0m\u001b[1;33m\u001b[0m\u001b[1;33m\u001b[0m\u001b[0m\n\u001b[1;32m--> 718\u001b[1;33m       \u001b[1;32mraise\u001b[0m \u001b[0mTypeError\u001b[0m\u001b[1;33m(\u001b[0m\u001b[0merror_message\u001b[0m\u001b[1;33m,\u001b[0m \u001b[0mkwarg\u001b[0m\u001b[1;33m)\u001b[0m\u001b[1;33m\u001b[0m\u001b[1;33m\u001b[0m\u001b[0m\n\u001b[0m",
            "\u001b[1;31mTypeError\u001b[0m: ('Keyword argument not understood:', 'groups')"
          ]
        }
      ],
      "source": [
        "import tensorflow as tf\n",
        "model = tf.keras.models.load_model('Saved Model Character/characters.h5')                      # Now we load the model"
      ]
    },
    {
      "cell_type": "markdown",
      "metadata": {
        "id": "H364GGx-NiY_"
      },
      "source": [
        "In the following function we mapped the categorical output with the Arabic letters to help us better identifing the classes."
      ]
    },
    {
      "cell_type": "code",
      "execution_count": 3,
      "metadata": {
        "id": "w5hoxHnzoyxm"
      },
      "outputs": [],
      "source": [
        "def convert_categorical_label_to_real_label(categorical_label):\n",
        "  real_labels = []\n",
        "  real_labels.extend(['أ', 'ب', 'ت', 'ث', 'ج', 'ح', 'خ', 'د', 'ذ', 'ر', 'ز', 'س', 'ش', 'ص', 'ض', 'ط', 'ظ', 'ع', 'غ', 'ف', 'ق', 'ك', 'ل', 'م', 'ن', 'ه', 'و', 'ى'])\n",
        "  # print(real_labels)\n",
        "  return real_labels[categorical_label]"
      ]
    },
    {
      "cell_type": "markdown",
      "metadata": {
        "id": "5eRBZtLtNtk_"
      },
      "source": [
        "Finally lets test them on custom images."
      ]
    },
    {
      "cell_type": "code",
      "execution_count": 26,
      "metadata": {
        "colab": {
          "base_uri": "https://localhost:8080/",
          "height": 814
        },
        "id": "fehpVPCwpa7-",
        "outputId": "3bf92261-fb4d-46b9-fa1c-b9794706a0ac"
      },
      "outputs": [],
      "source": [
        "# for i in range(1, 4):\n",
        "#   test = cv2.imread('z' + str(i) + '.png')\n",
        "#   test = cv2.cvtColor(test, cv2.COLOR_BGR2GRAY)\n",
        "#   test = cv2.resize(test, (32, 32))\n",
        "#   plt.imshow(test, cmap='gray')\n",
        "#   plt.show()\n",
        "#   test = np.reshape(test, (-1, 32, 32, 1))\n",
        "#   test = test.astype('float32')/255\n",
        "#   print(convert_categorical_label_to_real_label(np.argmax(model.predict(test))))"
      ]
    },
    {
      "cell_type": "code",
      "execution_count": 8,
      "metadata": {},
      "outputs": [
        {
          "data": {
            "image/png": "[encoded data removed]",
            "text/plain": [
              "<Figure size 432x288 with 1 Axes>"
            ]
          },
          "metadata": {
            "needs_background": "light"
          },
          "output_type": "display_data"
        },
        {
          "name": "stdout",
          "output_type": "stream",
          "text": [
            "ح\n",
            "(1, 32, 32, 1)\n"
          ]
        }
      ],
      "source": [
        "import cv2\n",
        "import matplotlib.pyplot as plt\n",
        "import numpy as np\n",
        "test = cv2.imread(r'D:\\AtlantisSeeker-UIN\\Skripsi Imam\\Arabic char and digits recognition\\Individual Model\\Arabic Character Recognition\\Dataset\\handmade dataset\\2022_01_21_0rt_Kleki.png')\n",
        "test = cv2.cvtColor(test, cv2.COLOR_BGR2GRAY)\n",
        "test = cv2.resize(test, (32, 32))\n",
        "plt.imshow(test, cmap='gray')\n",
        "plt.show()\n",
        "test = np.reshape(test, (-1, 32, 32, 1))\n",
        "test = test.astype('float32')/255\n",
        "print(convert_categorical_label_to_real_label(np.argmax(model.predict(test))))\n",
        "print(test.shape)"
      ]
    },
    {
      "cell_type": "code",
      "execution_count": 2,
      "metadata": {},
      "outputs": [],
      "source": [
        "import tensorflow as tf\n",
        "interpreter = tf.lite.Interpreter(r'D:\\AtlantisSeeker-UIN\\Skripsi Imam\\Arabic char and digits recognition\\Individual Model\\Arabic Character Recognition\\Saved Model Character\\model_digit.tflite')\n",
        "\n",
        "input_details = interpreter.get_input_details()\n",
        "waveform_input_index = input_details[0]['index']\n",
        "output_details = interpreter.get_output_details()\n",
        "scores_output_index = output_details[0]['index']"
      ]
    },
    {
      "cell_type": "code",
      "execution_count": 3,
      "metadata": {},
      "outputs": [
        {
          "name": "stdout",
          "output_type": "stream",
          "text": [
            "[{'name': 'Identity', 'index': 37, 'shape': array([ 1, 28]), 'shape_signature': array([-1, 28]), 'dtype': <class 'numpy.float32'>, 'quantization': (0.0, 0), 'quantization_parameters': {'scales': array([], dtype=float32), 'zero_points': array([], dtype=int32), 'quantized_dimension': 0}, 'sparsity_parameters': {}}]\n"
          ]
        }
      ],
      "source": [
        "print(output_details)"
      ]
    },
    {
      "cell_type": "code",
      "execution_count": 2,
      "metadata": {},
      "outputs": [],
      "source": [
        "real_labels = []\n",
        "real_labels.extend(['أ', 'ب', 'ت', 'ث', 'ج', 'ح', 'خ', 'د', 'ذ', 'ر', 'ز', 'س', 'ش', 'ص', 'ض', 'ط', 'ظ', 'ع', 'غ', 'ف', 'ق', 'ك', 'ل', 'م', 'ن', 'ه', 'و', 'ى'])\n",
        "\n",
        "textfile = open(r\"D:\\AtlantisSeeker-UIN\\Skripsi Imam\\Arabic char and digits recognition\\Individual Model\\Arabic Character Recognition\\label_char_only.txt\", \"w\", encoding='utf-8')\n",
        "\n",
        "for element in real_labels:\n",
        "    textfile.write(element + \"\\n\")\n",
        "textfile.close()"
      ]
    },
    {
      "cell_type": "code",
      "execution_count": 29,
      "metadata": {},
      "outputs": [
        {
          "name": "stdout",
          "output_type": "stream",
          "text": [
            "INFO:tensorflow:Assets written to: C:\\Users\\IMAMLU~1\\AppData\\Local\\Temp\\tmpiwwubhzy\\assets\n"
          ]
        }
      ],
      "source": [
        "import tensorflow as tf\n",
        "\n",
        "# Convert the model.\n",
        "converter = tf.lite.TFLiteConverter.from_keras_model(model)\n",
        "tflite_model = converter.convert()\n",
        "\n",
        "# Save the model.\n",
        "with open('D:\\AtlantisSeeker-UIN\\Skripsi Imam\\Arabic char and digits recognition\\Individual Model\\Arabic Character Recognition\\Saved Model Character\\model_digit.tflite', 'wb') as f:\n",
        "  f.write(tflite_model)"
      ]
    },
    {
      "cell_type": "code",
      "execution_count": 30,
      "metadata": {},
      "outputs": [],
      "source": [
        "from tflite_support.metadata_writers import image_classifier\n",
        "from tflite_support.metadata_writers import writer_utils"
      ]
    },
    {
      "cell_type": "code",
      "execution_count": 31,
      "metadata": {},
      "outputs": [
        {
          "name": "stdout",
          "output_type": "stream",
          "text": [
            "{\n",
            "  \"name\": \"ImageClassifier\",\n",
            "  \"description\": \"Identify the most prominent object in the image from a known set of categories.\",\n",
            "  \"subgraph_metadata\": [\n",
            "    {\n",
            "      \"input_tensor_metadata\": [\n",
            "        {\n",
            "          \"name\": \"image\",\n",
            "          \"description\": \"Input image to be classified.\",\n",
            "          \"content\": {\n",
            "            \"content_properties_type\": \"ImageProperties\",\n",
            "            \"content_properties\": {\n",
            "              \"color_space\": \"RGB\"\n",
            "            }\n",
            "          },\n",
            "          \"process_units\": [\n",
            "            {\n",
            "              \"options_type\": \"NormalizationOptions\",\n",
            "              \"options\": {\n",
            "                \"mean\": [\n",
            "                  127.5\n",
            "                ],\n",
            "                \"std\": [\n",
            "                  127.5\n",
            "                ]\n",
            "              }\n",
            "            }\n",
            "          ],\n",
            "          \"stats\": {\n",
            "            \"max\": [\n",
            "              1.0\n",
            "            ],\n",
            "            \"min\": [\n",
            "              -1.0\n",
            "            ]\n",
            "          }\n",
            "        }\n",
            "      ],\n",
            "      \"output_tensor_metadata\": [\n",
            "        {\n",
            "          \"name\": \"probability\",\n",
            "          \"description\": \"Probabilities of the labels respectively.\",\n",
            "          \"content\": {\n",
            "            \"content_properties_type\": \"FeatureProperties\",\n",
            "            \"content_properties\": {\n",
            "            }\n",
            "          },\n",
            "          \"stats\": {\n",
            "            \"max\": [\n",
            "              1.0\n",
            "            ],\n",
            "            \"min\": [\n",
            "              0.0\n",
            "            ]\n",
            "          },\n",
            "          \"associated_files\": [\n",
            "            {\n",
            "              \"name\": \"label_char_only.txt\",\n",
            "              \"description\": \"Labels for categories that the model can recognize.\",\n",
            "              \"type\": \"TENSOR_AXIS_LABELS\"\n",
            "            }\n",
            "          ]\n",
            "        }\n",
            "      ]\n",
            "    }\n",
            "  ]\n",
            "}\n",
            "\n"
          ]
        }
      ],
      "source": [
        "ImageClassifierWriter = image_classifier.MetadataWriter\n",
        "_MODEL_PATH = \"D:\\AtlantisSeeker-UIN\\Skripsi Imam\\Arabic char and digits recognition\\Individual Model\\Arabic Character Recognition\\Saved Model Character\\model_digit.tflite\"\n",
        "# Task Library expects label files that are in the same format as the one below.\n",
        "_LABEL_FILE = \"D:\\AtlantisSeeker-UIN\\Skripsi Imam\\Arabic char and digits recognition\\Individual Model\\Arabic Character Recognition\\label_char_only.txt\"\n",
        "_SAVE_TO_PATH = \"D:\\AtlantisSeeker-UIN\\Skripsi Imam\\Arabic char and digits recognition\\Individual Model\\Arabic Character Recognition\\Saved Model Character/model_digit_with_metadata.tflite\"\n",
        "# Normalization parameters is required when reprocessing the image. It is\n",
        "# optional if the image pixel values are in range of [0, 255] and the input\n",
        "# tensor is quantized to uint8. See the introduction for normalization and\n",
        "# quantization parameters below for more details.\n",
        "# https://www.tensorflow.org/lite/convert/metadata#normalization_and_quantization_parameters)\n",
        "_INPUT_NORM_MEAN = 127.5\n",
        "_INPUT_NORM_STD = 127.5\n",
        "\n",
        "# Create the metadata writer.\n",
        "writer = ImageClassifierWriter.create_for_inference(\n",
        "    writer_utils.load_file(_MODEL_PATH), [_INPUT_NORM_MEAN], [_INPUT_NORM_STD],\n",
        "    [_LABEL_FILE])\n",
        "\n",
        "# Verify the metadata generated by metadata writer.\n",
        "print(writer.get_metadata_json())\n",
        "\n",
        "# Populate the metadata into the model.\n",
        "writer_utils.save_file(writer.populate(), _SAVE_TO_PATH)"
      ]
    }
  ],
  "metadata": {
    "colab": {
      "name": "Arabic Character Recognizer.ipynb",
      "provenance": []
    },
    "kernelspec": {
      "display_name": "Python 3",
      "name": "python3"
    },
    "language_info": {
      "codemirror_mode": {
        "name": "ipython",
        "version": 3
      },
      "file_extension": ".py",
      "mimetype": "text/x-python",
      "name": "python",
      "nbconvert_exporter": "python",
      "pygments_lexer": "ipython3",
      "version": "3.6.13"
    }
  },
  "nbformat": 4,
  "nbformat_minor": 0
}
