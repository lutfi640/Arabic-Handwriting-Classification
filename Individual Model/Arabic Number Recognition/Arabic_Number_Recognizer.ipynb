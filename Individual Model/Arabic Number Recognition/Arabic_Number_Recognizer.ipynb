{
  "cells": [
    {
      "cell_type": "markdown",
      "metadata": {
        "id": "sRXloTWAt7lc"
      },
      "source": [
        "## Dataset\n",
        "The dataset is composed of 70,000 digits written by 700 participants. Each participant wrote each digit (from 0 to 9) twenty times (ten times only used in our database – the other ten times may be used later in writer verification research). To ensure including different writing styles, the database was gathered from different institutions: Colleges of Engineering and Law, School of Medicine, the Open University (whose students span a wide range of ages), a high school, and a governmental institution. Forms were scanned with 300 dpi resolution then digits are automatically extracted, categorized, and bounded by bounding boxes. We adjusted the scanner to produce binary images directly; so we did not need to binarize the resulting images. Some noisy and corrupted digit images were edited manually. The database is partitioned into two sets: a training set (60,000 digits – 6000 images per class) and a test set (10,000 digits – 1000 images per class). Writers of training set and test set are exclusive. Ordering of including writers to test sets are randomized to make sure that writers of test set are not from a single institution (to ensure variability of the test set).\n",
        "\n",
        "http://datacenter.aucegypt.edu/shazeem/"
      ]
    },
    {
      "cell_type": "markdown",
      "metadata": {
        "id": "KQxIa73_5Y1p"
      },
      "source": [
        "## Data Exploring & Preprocessing"
      ]
    },
    {
      "cell_type": "markdown",
      "metadata": {
        "id": "p7EgfTVy5ck3"
      },
      "source": [
        "1- Let's import our libraries that we will use in this project."
      ]
    },
    {
      "cell_type": "code",
      "execution_count": 1,
      "metadata": {},
      "outputs": [],
      "source": [
        "from tensorflow._api.v2.compat.v1 import ConfigProto\n",
        "from tensorflow._api.v2.compat.v1 import InteractiveSession\n",
        "\n",
        "config = ConfigProto()\n",
        "config.gpu_options.allow_growth = True\n",
        "session = InteractiveSession(config=config)"
      ]
    },
    {
      "cell_type": "code",
      "execution_count": 2,
      "metadata": {
        "id": "6YXIBfocHmj5"
      },
      "outputs": [],
      "source": [
        "import tensorflow as tf                                                         # The main framework we will build our model with.\n",
        "import numpy as np                                                              # Used for mathimatical operations.\n",
        "import pandas as pd                                                             # Will be used to load our data frame.\n",
        "import cv2                                                                      # Used for image processing.\n",
        "from matplotlib import pyplot as plt                                            # Used for plottin our data.\n",
        "from tensorflow.keras.utils import to_categorical                               # Utility in Tensorflow to convert our true category values."
      ]
    },
    {
      "cell_type": "markdown",
      "metadata": {
        "id": "keUYyJezeH3q"
      },
      "source": [
        "2- Now we wil mount google drive for loading our data."
      ]
    },
    {
      "cell_type": "code",
      "execution_count": 3,
      "metadata": {
        "colab": {
          "base_uri": "https://localhost:8080/"
        },
        "id": "SCo4zIAkH54h",
        "outputId": "11fd78c7-3677-4e12-f439-3de897d3e1d4"
      },
      "outputs": [],
      "source": [
        "# from google.colab import drive                                                  \n",
        "# drive.mount('/content/gdrive')"
      ]
    },
    {
      "cell_type": "markdown",
      "metadata": {
        "id": "uVFM9Wl96eDq"
      },
      "source": [
        "3- We will use Pandas library to read our data and load it into our data frame, our data is stored in CSV format so we will use the appropriate function to load it."
      ]
    },
    {
      "cell_type": "code",
      "execution_count": 4,
      "metadata": {
        "id": "sm43wmpBH7UU"
      },
      "outputs": [],
      "source": [
        "path = 'D:\\AtlantisSeeker-UIN\\Skripsi Imam\\Arabic char and digits recognition\\Individual Model\\Arabic Number Recognition\\Dataset'                  # Here we specify the path to our data location on my drive\n",
        "train_data_x = pd.read_csv(path + '/csvTrainImages 60k x 784.csv', header=None) # Then we load the training images.\n",
        "train_data_y = pd.read_csv(path + '/csvTrainLabel 60k x 1.csv', header=None)    # Training labels.\n",
        "test_data_x = pd.read_csv(path + '/csvTestImages 10k x 784.csv', header=None)   # Testing images.\n",
        "test_data_y = pd.read_csv(path + '/csvTestLabel 10k x 1.csv', header=None)      # Testing labels."
      ]
    },
    {
      "cell_type": "markdown",
      "metadata": {
        "id": "RTOr2zmRCFKW"
      },
      "source": [
        "4- Now let's examine our data properties.\n",
        "\n",
        "We will find that we have 60000 training image with their labels in the training set and 10000 in the testing set, along with a total of 10 classes which idecates the number of Arabic digits.\n",
        "\n",
        "The number of pixels in each image is 784, so we can conclude the pixels per image by getting the square root of the number of pixels which will give us 28, so the dimensions of our image is 28x28x1 as it is a grey scale image, we will use this piece of information for preprocessing our images."
      ]
    },
    {
      "cell_type": "code",
      "execution_count": 5,
      "metadata": {
        "colab": {
          "base_uri": "https://localhost:8080/"
        },
        "id": "ShNnODiZ7Tdx",
        "outputId": "3b23f893-bcab-4314-d279-6eb1442453af"
      },
      "outputs": [
        {
          "name": "stdout",
          "output_type": "stream",
          "text": [
            "We have  60000 training images each contains 784 pixels.\n",
            "We have  60000 training labels each contains 10 classes.\n",
            "We have  10000 testing images each contains 784 pixels.\n",
            "We have  10000 testing labels each contains 10 classes.\n"
          ]
        }
      ],
      "source": [
        "print('We have  %d training images each contains %d pixels.' %(train_data_x.shape[0], train_data_x.shape[1]))\n",
        "print('We have  %d training labels each contains %d classes.' %(train_data_y.shape[0], len(train_data_y.value_counts())))\n",
        "print('We have  %d testing images each contains %d pixels.' %(test_data_x.shape[0], test_data_x.shape[1]))\n",
        "print('We have  %d testing labels each contains %d classes.' %(test_data_y.shape[0], len(test_data_y.value_counts())))"
      ]
    },
    {
      "cell_type": "markdown",
      "metadata": {
        "id": "DXYb_1aPCryC"
      },
      "source": [
        "We notice also that there are 6000 image per class. "
      ]
    },
    {
      "cell_type": "code",
      "execution_count": 6,
      "metadata": {
        "colab": {
          "base_uri": "https://localhost:8080/"
        },
        "id": "fp9GRUSHCoqC",
        "outputId": "84cbd891-38c0-40d9-d454-85e50b660647"
      },
      "outputs": [
        {
          "data": {
            "text/plain": [
              "9    6000\n",
              "8    6000\n",
              "7    6000\n",
              "6    6000\n",
              "5    6000\n",
              "4    6000\n",
              "3    6000\n",
              "2    6000\n",
              "1    6000\n",
              "0    6000\n",
              "dtype: int64"
            ]
          },
          "execution_count": 6,
          "metadata": {},
          "output_type": "execute_result"
        }
      ],
      "source": [
        "train_data_y.value_counts()"
      ]
    },
    {
      "cell_type": "markdown",
      "metadata": {
        "id": "i4SWelXGHU5l"
      },
      "source": [
        "Let's see what our images looks like."
      ]
    },
    {
      "cell_type": "code",
      "execution_count": 7,
      "metadata": {
        "colab": {
          "base_uri": "https://localhost:8080/",
          "height": 485
        },
        "id": "tHrDRNcRIPXI",
        "outputId": "4199b1a8-e33f-4585-f04f-425ad927ef24"
      },
      "outputs": [
        {
          "data": {
            "image/png": "[encoded data removed]",
            "text/plain": [
              "<Figure size 576x576 with 20 Axes>"
            ]
          },
          "metadata": {
            "needs_background": "light"
          },
          "output_type": "display_data"
        }
      ],
      "source": [
        "fig = plt.figure(figsize=(8, 8))                                                # Setting the figure size.\n",
        "columns = 4                                                                     # Selecting the number of columns.\n",
        "rows = 5                                                                        # Selectin the number of rows.\n",
        "for i in range(1, columns*rows +1):                                             # Looping through rows & columns.\n",
        "  img = test_data_x.iloc[i].to_numpy().reshape((28,28))                         # Reshaping the image into its size 32x32\n",
        "  fig.add_subplot(rows, columns, i)                                             # Adding the image to the plot\n",
        "  plt.imshow(img, cmap='gray')                                                  # Showing the image using plt\n",
        "plt.show()                                                                      # Finally shpwing the whole plot containing all the subplots"
      ]
    },
    {
      "cell_type": "markdown",
      "metadata": {
        "id": "HKhMF-oJ7NFQ"
      },
      "source": [
        "5- Now we define a function for us to preprocess the data,\n",
        "\n",
        "We will start with reshaping the image to be with the size of 28x28, so that the training array will be of size of #imagesx28x28, then we will pass through each image to flip and rotate them as they are rotated, then we will reshape the entire array with the #imagex28x28x1, and the 1 stands for our grey scale images, lastly we will normalize our images by dividing by 255 for pixels normalization."
      ]
    },
    {
      "cell_type": "code",
      "execution_count": 8,
      "metadata": {
        "id": "DFLrl6e_IGR2"
      },
      "outputs": [],
      "source": [
        "def preprocess_data(train_data_x):\n",
        "  train_data_x = train_data_x.to_numpy().reshape((train_data_x.shape[0], 28, 28)).astype('uint8')\n",
        "  for i in range(len(train_data_x)):\n",
        "    train_data_x[i] = cv2.rotate(train_data_x[i], cv2.ROTATE_90_CLOCKWISE)      # Rotating the images.\n",
        "    train_data_x[i] = np.flip(train_data_x[i], 1)                               # Flipping the images\n",
        "  train_data_x = train_data_x.reshape([-1, 28, 28, 1]).astype('uint8')          # Reshaping into the required size.\n",
        "  train_data_x = train_data_x.astype('float32')/255                             # Here we normalize our images.\n",
        "  return np.asarray(train_data_x)"
      ]
    },
    {
      "cell_type": "code",
      "execution_count": 9,
      "metadata": {
        "id": "CO9pCdPXODj6"
      },
      "outputs": [],
      "source": [
        "train_x = preprocess_data(train_data_x)                                         # Returns an array of dimensions (60000,28,28,1).\n",
        "test_x = preprocess_data(test_data_x)                                           # Returns an array of dimensions (60000,28,28,1)."
      ]
    },
    {
      "cell_type": "code",
      "execution_count": 10,
      "metadata": {},
      "outputs": [
        {
          "data": {
            "image/png": "[encoded data removed]",
            "text/plain": [
              "<Figure size 576x576 with 20 Axes>"
            ]
          },
          "metadata": {
            "needs_background": "light"
          },
          "output_type": "display_data"
        }
      ],
      "source": [
        "fig = plt.figure(figsize=(8, 8))                                                # Setting the figure size.\n",
        "columns = 4                                                                     # Selecting the number of columns.\n",
        "rows = 5                                                                        # Selectin the number of rows.\n",
        "for i in range(1, columns*rows +1):                                             # Looping through rows & columns.\n",
        "  img = train_x[i]                     # Reshaping the image into its size 32x32\n",
        "  fig.add_subplot(rows, columns, i)                                             # Adding the image to the plot\n",
        "  plt.imshow(img, cmap='gray')                                                  # Showing the image using plt\n",
        "plt.show()   "
      ]
    },
    {
      "cell_type": "markdown",
      "metadata": {
        "id": "3lHMkOB9FbFF"
      },
      "source": [
        "6- Now we preprocess our labels by converting them to the categorcal form."
      ]
    },
    {
      "cell_type": "code",
      "execution_count": 11,
      "metadata": {
        "id": "q59S-Grzin2E"
      },
      "outputs": [],
      "source": [
        "train_y = to_categorical(train_data_y.values.astype('int32')                    # Returns an array of dimentions (13340, 28).\n",
        "                         , num_classes=10)\n",
        "test_y = to_categorical(test_data_y.values.astype('int32')                      # Returns an array of dimentions (3360, 28).\n",
        "                        , num_classes=10)"
      ]
    },
    {
      "cell_type": "markdown",
      "metadata": {
        "id": "76OB6dpkG2Ku"
      },
      "source": [
        "7- We will now shuffle our training and test sets as we will get better results than using the data's classes in sequential form."
      ]
    },
    {
      "cell_type": "code",
      "execution_count": 12,
      "metadata": {
        "id": "Vr-MGeBgrsTN"
      },
      "outputs": [
        {
          "data": {
            "text/plain": [
              "(array([[[[0.],\n",
              "          [0.],\n",
              "          [0.],\n",
              "          ...,\n",
              "          [0.],\n",
              "          [0.],\n",
              "          [0.]],\n",
              " \n",
              "         [[0.],\n",
              "          [0.],\n",
              "          [0.],\n",
              "          ...,\n",
              "          [0.],\n",
              "          [0.],\n",
              "          [0.]],\n",
              " \n",
              "         [[0.],\n",
              "          [0.],\n",
              "          [0.],\n",
              "          ...,\n",
              "          [0.],\n",
              "          [0.],\n",
              "          [0.]],\n",
              " \n",
              "         ...,\n",
              " \n",
              "         [[0.],\n",
              "          [0.],\n",
              "          [0.],\n",
              "          ...,\n",
              "          [0.],\n",
              "          [0.],\n",
              "          [0.]],\n",
              " \n",
              "         [[0.],\n",
              "          [0.],\n",
              "          [0.],\n",
              "          ...,\n",
              "          [0.],\n",
              "          [0.],\n",
              "          [0.]],\n",
              " \n",
              "         [[0.],\n",
              "          [0.],\n",
              "          [0.],\n",
              "          ...,\n",
              "          [0.],\n",
              "          [0.],\n",
              "          [0.]]],\n",
              " \n",
              " \n",
              "        [[[0.],\n",
              "          [0.],\n",
              "          [0.],\n",
              "          ...,\n",
              "          [0.],\n",
              "          [0.],\n",
              "          [0.]],\n",
              " \n",
              "         [[0.],\n",
              "          [0.],\n",
              "          [0.],\n",
              "          ...,\n",
              "          [0.],\n",
              "          [0.],\n",
              "          [0.]],\n",
              " \n",
              "         [[0.],\n",
              "          [0.],\n",
              "          [0.],\n",
              "          ...,\n",
              "          [0.],\n",
              "          [0.],\n",
              "          [0.]],\n",
              " \n",
              "         ...,\n",
              " \n",
              "         [[0.],\n",
              "          [0.],\n",
              "          [0.],\n",
              "          ...,\n",
              "          [0.],\n",
              "          [0.],\n",
              "          [0.]],\n",
              " \n",
              "         [[0.],\n",
              "          [0.],\n",
              "          [0.],\n",
              "          ...,\n",
              "          [0.],\n",
              "          [0.],\n",
              "          [0.]],\n",
              " \n",
              "         [[0.],\n",
              "          [0.],\n",
              "          [0.],\n",
              "          ...,\n",
              "          [0.],\n",
              "          [0.],\n",
              "          [0.]]],\n",
              " \n",
              " \n",
              "        [[[0.],\n",
              "          [0.],\n",
              "          [0.],\n",
              "          ...,\n",
              "          [0.],\n",
              "          [0.],\n",
              "          [0.]],\n",
              " \n",
              "         [[0.],\n",
              "          [0.],\n",
              "          [0.],\n",
              "          ...,\n",
              "          [0.],\n",
              "          [0.],\n",
              "          [0.]],\n",
              " \n",
              "         [[0.],\n",
              "          [0.],\n",
              "          [0.],\n",
              "          ...,\n",
              "          [0.],\n",
              "          [0.],\n",
              "          [0.]],\n",
              " \n",
              "         ...,\n",
              " \n",
              "         [[0.],\n",
              "          [0.],\n",
              "          [0.],\n",
              "          ...,\n",
              "          [0.],\n",
              "          [0.],\n",
              "          [0.]],\n",
              " \n",
              "         [[0.],\n",
              "          [0.],\n",
              "          [0.],\n",
              "          ...,\n",
              "          [0.],\n",
              "          [0.],\n",
              "          [0.]],\n",
              " \n",
              "         [[0.],\n",
              "          [0.],\n",
              "          [0.],\n",
              "          ...,\n",
              "          [0.],\n",
              "          [0.],\n",
              "          [0.]]],\n",
              " \n",
              " \n",
              "        ...,\n",
              " \n",
              " \n",
              "        [[[0.],\n",
              "          [0.],\n",
              "          [0.],\n",
              "          ...,\n",
              "          [0.],\n",
              "          [0.],\n",
              "          [0.]],\n",
              " \n",
              "         [[0.],\n",
              "          [0.],\n",
              "          [0.],\n",
              "          ...,\n",
              "          [0.],\n",
              "          [0.],\n",
              "          [0.]],\n",
              " \n",
              "         [[0.],\n",
              "          [0.],\n",
              "          [0.],\n",
              "          ...,\n",
              "          [0.],\n",
              "          [0.],\n",
              "          [0.]],\n",
              " \n",
              "         ...,\n",
              " \n",
              "         [[0.],\n",
              "          [0.],\n",
              "          [0.],\n",
              "          ...,\n",
              "          [0.],\n",
              "          [0.],\n",
              "          [0.]],\n",
              " \n",
              "         [[0.],\n",
              "          [0.],\n",
              "          [0.],\n",
              "          ...,\n",
              "          [0.],\n",
              "          [0.],\n",
              "          [0.]],\n",
              " \n",
              "         [[0.],\n",
              "          [0.],\n",
              "          [0.],\n",
              "          ...,\n",
              "          [0.],\n",
              "          [0.],\n",
              "          [0.]]],\n",
              " \n",
              " \n",
              "        [[[0.],\n",
              "          [0.],\n",
              "          [0.],\n",
              "          ...,\n",
              "          [0.],\n",
              "          [0.],\n",
              "          [0.]],\n",
              " \n",
              "         [[0.],\n",
              "          [0.],\n",
              "          [0.],\n",
              "          ...,\n",
              "          [0.],\n",
              "          [0.],\n",
              "          [0.]],\n",
              " \n",
              "         [[0.],\n",
              "          [0.],\n",
              "          [0.],\n",
              "          ...,\n",
              "          [0.],\n",
              "          [0.],\n",
              "          [0.]],\n",
              " \n",
              "         ...,\n",
              " \n",
              "         [[0.],\n",
              "          [0.],\n",
              "          [0.],\n",
              "          ...,\n",
              "          [0.],\n",
              "          [0.],\n",
              "          [0.]],\n",
              " \n",
              "         [[0.],\n",
              "          [0.],\n",
              "          [0.],\n",
              "          ...,\n",
              "          [0.],\n",
              "          [0.],\n",
              "          [0.]],\n",
              " \n",
              "         [[0.],\n",
              "          [0.],\n",
              "          [0.],\n",
              "          ...,\n",
              "          [0.],\n",
              "          [0.],\n",
              "          [0.]]],\n",
              " \n",
              " \n",
              "        [[[0.],\n",
              "          [0.],\n",
              "          [0.],\n",
              "          ...,\n",
              "          [0.],\n",
              "          [0.],\n",
              "          [0.]],\n",
              " \n",
              "         [[0.],\n",
              "          [0.],\n",
              "          [0.],\n",
              "          ...,\n",
              "          [0.],\n",
              "          [0.],\n",
              "          [0.]],\n",
              " \n",
              "         [[0.],\n",
              "          [0.],\n",
              "          [0.],\n",
              "          ...,\n",
              "          [0.],\n",
              "          [0.],\n",
              "          [0.]],\n",
              " \n",
              "         ...,\n",
              " \n",
              "         [[0.],\n",
              "          [0.],\n",
              "          [0.],\n",
              "          ...,\n",
              "          [0.],\n",
              "          [0.],\n",
              "          [0.]],\n",
              " \n",
              "         [[0.],\n",
              "          [0.],\n",
              "          [0.],\n",
              "          ...,\n",
              "          [0.],\n",
              "          [0.],\n",
              "          [0.]],\n",
              " \n",
              "         [[0.],\n",
              "          [0.],\n",
              "          [0.],\n",
              "          ...,\n",
              "          [0.],\n",
              "          [0.],\n",
              "          [0.]]]], dtype=float32),\n",
              " array([[1., 0., 0., ..., 0., 0., 0.],\n",
              "        [0., 1., 0., ..., 0., 0., 0.],\n",
              "        [0., 0., 1., ..., 0., 0., 0.],\n",
              "        ...,\n",
              "        [0., 0., 0., ..., 1., 0., 0.],\n",
              "        [0., 0., 0., ..., 0., 1., 0.],\n",
              "        [0., 0., 0., ..., 0., 0., 1.]], dtype=float32),\n",
              " [array([[[[0.],\n",
              "           [0.],\n",
              "           [0.],\n",
              "           ...,\n",
              "           [0.],\n",
              "           [0.],\n",
              "           [0.]],\n",
              "  \n",
              "          [[0.],\n",
              "           [0.],\n",
              "           [0.],\n",
              "           ...,\n",
              "           [0.],\n",
              "           [0.],\n",
              "           [0.]],\n",
              "  \n",
              "          [[0.],\n",
              "           [0.],\n",
              "           [0.],\n",
              "           ...,\n",
              "           [0.],\n",
              "           [0.],\n",
              "           [0.]],\n",
              "  \n",
              "          ...,\n",
              "  \n",
              "          [[0.],\n",
              "           [0.],\n",
              "           [0.],\n",
              "           ...,\n",
              "           [0.],\n",
              "           [0.],\n",
              "           [0.]],\n",
              "  \n",
              "          [[0.],\n",
              "           [0.],\n",
              "           [0.],\n",
              "           ...,\n",
              "           [0.],\n",
              "           [0.],\n",
              "           [0.]],\n",
              "  \n",
              "          [[0.],\n",
              "           [0.],\n",
              "           [0.],\n",
              "           ...,\n",
              "           [0.],\n",
              "           [0.],\n",
              "           [0.]]],\n",
              "  \n",
              "  \n",
              "         [[[0.],\n",
              "           [0.],\n",
              "           [0.],\n",
              "           ...,\n",
              "           [0.],\n",
              "           [0.],\n",
              "           [0.]],\n",
              "  \n",
              "          [[0.],\n",
              "           [0.],\n",
              "           [0.],\n",
              "           ...,\n",
              "           [0.],\n",
              "           [0.],\n",
              "           [0.]],\n",
              "  \n",
              "          [[0.],\n",
              "           [0.],\n",
              "           [0.],\n",
              "           ...,\n",
              "           [0.],\n",
              "           [0.],\n",
              "           [0.]],\n",
              "  \n",
              "          ...,\n",
              "  \n",
              "          [[0.],\n",
              "           [0.],\n",
              "           [0.],\n",
              "           ...,\n",
              "           [0.],\n",
              "           [0.],\n",
              "           [0.]],\n",
              "  \n",
              "          [[0.],\n",
              "           [0.],\n",
              "           [0.],\n",
              "           ...,\n",
              "           [0.],\n",
              "           [0.],\n",
              "           [0.]],\n",
              "  \n",
              "          [[0.],\n",
              "           [0.],\n",
              "           [0.],\n",
              "           ...,\n",
              "           [0.],\n",
              "           [0.],\n",
              "           [0.]]],\n",
              "  \n",
              "  \n",
              "         [[[0.],\n",
              "           [0.],\n",
              "           [0.],\n",
              "           ...,\n",
              "           [0.],\n",
              "           [0.],\n",
              "           [0.]],\n",
              "  \n",
              "          [[0.],\n",
              "           [0.],\n",
              "           [0.],\n",
              "           ...,\n",
              "           [0.],\n",
              "           [0.],\n",
              "           [0.]],\n",
              "  \n",
              "          [[0.],\n",
              "           [0.],\n",
              "           [0.],\n",
              "           ...,\n",
              "           [0.],\n",
              "           [0.],\n",
              "           [0.]],\n",
              "  \n",
              "          ...,\n",
              "  \n",
              "          [[0.],\n",
              "           [0.],\n",
              "           [0.],\n",
              "           ...,\n",
              "           [0.],\n",
              "           [0.],\n",
              "           [0.]],\n",
              "  \n",
              "          [[0.],\n",
              "           [0.],\n",
              "           [0.],\n",
              "           ...,\n",
              "           [0.],\n",
              "           [0.],\n",
              "           [0.]],\n",
              "  \n",
              "          [[0.],\n",
              "           [0.],\n",
              "           [0.],\n",
              "           ...,\n",
              "           [0.],\n",
              "           [0.],\n",
              "           [0.]]],\n",
              "  \n",
              "  \n",
              "         ...,\n",
              "  \n",
              "  \n",
              "         [[[0.],\n",
              "           [0.],\n",
              "           [0.],\n",
              "           ...,\n",
              "           [0.],\n",
              "           [0.],\n",
              "           [0.]],\n",
              "  \n",
              "          [[0.],\n",
              "           [0.],\n",
              "           [0.],\n",
              "           ...,\n",
              "           [0.],\n",
              "           [0.],\n",
              "           [0.]],\n",
              "  \n",
              "          [[0.],\n",
              "           [0.],\n",
              "           [0.],\n",
              "           ...,\n",
              "           [0.],\n",
              "           [0.],\n",
              "           [0.]],\n",
              "  \n",
              "          ...,\n",
              "  \n",
              "          [[0.],\n",
              "           [0.],\n",
              "           [0.],\n",
              "           ...,\n",
              "           [0.],\n",
              "           [0.],\n",
              "           [0.]],\n",
              "  \n",
              "          [[0.],\n",
              "           [0.],\n",
              "           [0.],\n",
              "           ...,\n",
              "           [0.],\n",
              "           [0.],\n",
              "           [0.]],\n",
              "  \n",
              "          [[0.],\n",
              "           [0.],\n",
              "           [0.],\n",
              "           ...,\n",
              "           [0.],\n",
              "           [0.],\n",
              "           [0.]]],\n",
              "  \n",
              "  \n",
              "         [[[0.],\n",
              "           [0.],\n",
              "           [0.],\n",
              "           ...,\n",
              "           [0.],\n",
              "           [0.],\n",
              "           [0.]],\n",
              "  \n",
              "          [[0.],\n",
              "           [0.],\n",
              "           [0.],\n",
              "           ...,\n",
              "           [0.],\n",
              "           [0.],\n",
              "           [0.]],\n",
              "  \n",
              "          [[0.],\n",
              "           [0.],\n",
              "           [0.],\n",
              "           ...,\n",
              "           [0.],\n",
              "           [0.],\n",
              "           [0.]],\n",
              "  \n",
              "          ...,\n",
              "  \n",
              "          [[0.],\n",
              "           [0.],\n",
              "           [0.],\n",
              "           ...,\n",
              "           [0.],\n",
              "           [0.],\n",
              "           [0.]],\n",
              "  \n",
              "          [[0.],\n",
              "           [0.],\n",
              "           [0.],\n",
              "           ...,\n",
              "           [0.],\n",
              "           [0.],\n",
              "           [0.]],\n",
              "  \n",
              "          [[0.],\n",
              "           [0.],\n",
              "           [0.],\n",
              "           ...,\n",
              "           [0.],\n",
              "           [0.],\n",
              "           [0.]]],\n",
              "  \n",
              "  \n",
              "         [[[0.],\n",
              "           [0.],\n",
              "           [0.],\n",
              "           ...,\n",
              "           [0.],\n",
              "           [0.],\n",
              "           [0.]],\n",
              "  \n",
              "          [[0.],\n",
              "           [0.],\n",
              "           [0.],\n",
              "           ...,\n",
              "           [0.],\n",
              "           [0.],\n",
              "           [0.]],\n",
              "  \n",
              "          [[0.],\n",
              "           [0.],\n",
              "           [0.],\n",
              "           ...,\n",
              "           [0.],\n",
              "           [0.],\n",
              "           [0.]],\n",
              "  \n",
              "          ...,\n",
              "  \n",
              "          [[0.],\n",
              "           [0.],\n",
              "           [0.],\n",
              "           ...,\n",
              "           [0.],\n",
              "           [0.],\n",
              "           [0.]],\n",
              "  \n",
              "          [[0.],\n",
              "           [0.],\n",
              "           [0.],\n",
              "           ...,\n",
              "           [0.],\n",
              "           [0.],\n",
              "           [0.]],\n",
              "  \n",
              "          [[0.],\n",
              "           [0.],\n",
              "           [0.],\n",
              "           ...,\n",
              "           [0.],\n",
              "           [0.],\n",
              "           [0.]]]], dtype=float32),\n",
              "  array([[0., 0., 0., ..., 0., 0., 1.],\n",
              "         [0., 0., 0., ..., 0., 0., 0.],\n",
              "         [0., 0., 0., ..., 0., 0., 0.],\n",
              "         ...,\n",
              "         [0., 0., 0., ..., 0., 0., 1.],\n",
              "         [0., 0., 1., ..., 0., 0., 0.],\n",
              "         [0., 1., 0., ..., 0., 0., 0.]], dtype=float32)])"
            ]
          },
          "execution_count": 12,
          "metadata": {},
          "output_type": "execute_result"
        }
      ],
      "source": [
        "from sklearn.utils import shuffle                                               # Importing shuffle function from sklearn library.\n",
        "train_x, train_y = shuffle(train_x, train_y)                                    # Now we shuffle x & y in the training set.\n",
        "test_x, test_y, shuffle(test_x, test_y)                                         # Then x & y in our testing set."
      ]
    },
    {
      "cell_type": "code",
      "execution_count": 13,
      "metadata": {},
      "outputs": [
        {
          "name": "stdout",
          "output_type": "stream",
          "text": [
            "(60000, 28, 28, 1)\n",
            "(60000, 10)\n"
          ]
        }
      ],
      "source": [
        "print(train_x.shape)\n",
        "print(train_y.shape)"
      ]
    },
    {
      "cell_type": "markdown",
      "metadata": {
        "id": "D5HOU_HZITMP"
      },
      "source": [
        "## Building Model"
      ]
    },
    {
      "cell_type": "markdown",
      "metadata": {
        "id": "cgwL5WP4eXwR"
      },
      "source": [
        "8- We will now create our model's architecture, \n",
        "\n",
        "We will use keras for the creation of our model, we will start by creating a function for use to create our model, we will set the activation, optimizer and our initializing method as variables for us to easly modifiy it in the hyper-parameter tuning phase.\n",
        "\n",
        "We will start by creating our first convolutional layer and setting up the input shape, we will create additional pooling layer along with a batch normalization layer, then we will add three convolutional layers with the same structure but the the double size of filters each layer.\n",
        "\n",
        "Then we will flatten our layer preparing it for the fully connected layers, we will use a small neurons numbered layer with a drop out layer, batch normalization and we will add an L2 regularizer so we will control the overfitting."
      ]
    },
    {
      "cell_type": "code",
      "execution_count": 14,
      "metadata": {
        "id": "-Utu1cNKOL_j"
      },
      "outputs": [],
      "source": [
        "def create_model(activation='relu', optimizer='adam', kernel_initializer='he_normal'):\n",
        "  model = tf.keras.models.Sequential([\n",
        "      tf.keras.layers.Conv2D(32, (3,3), padding='same', input_shape=(28, 28, 1), activation= activation, kernel_initializer=kernel_initializer),\n",
        "      tf.keras.layers.MaxPool2D(2,2),\n",
        "      tf.keras.layers.BatchNormalization(),\n",
        "      tf.keras.layers.Conv2D(64, (3,3), padding='same', activation= activation, kernel_initializer=kernel_initializer),\n",
        "      tf.keras.layers.MaxPool2D(2,2),\n",
        "      tf.keras.layers.Dropout(0.2),\n",
        "      tf.keras.layers.BatchNormalization(),\n",
        "      tf.keras.layers.Conv2D(128, (3,3), padding='same', activation= activation, kernel_initializer=kernel_initializer),\n",
        "      tf.keras.layers.MaxPool2D(2,2),\n",
        "      tf.keras.layers.Dropout(0.2),\n",
        "      tf.keras.layers.BatchNormalization(),\n",
        "\n",
        "      tf.keras.layers.Flatten(),\n",
        "      \n",
        "      tf.keras.layers.Dense(32, activation= activation, kernel_initializer=kernel_initializer, kernel_regularizer='l2'),\n",
        "      tf.keras.layers.BatchNormalization(),\n",
        "      tf.keras.layers.Dropout(0.2),\n",
        "      tf.keras.layers.Dense(10, activation= 'softmax', kernel_initializer=kernel_initializer)\n",
        "  ])\n",
        "\n",
        "  model.compile(optimizer=optimizer,\n",
        "                loss='categorical_crossentropy',\n",
        "                metrics=['accuracy'])\n",
        "  return model"
      ]
    },
    {
      "cell_type": "code",
      "execution_count": 15,
      "metadata": {
        "colab": {
          "base_uri": "https://localhost:8080/"
        },
        "id": "mU_Zu7dd_DEf",
        "outputId": "5519703c-0545-4227-9b4b-5c049a4bfa3d"
      },
      "outputs": [
        {
          "name": "stdout",
          "output_type": "stream",
          "text": [
            "Model: \"sequential\"\n",
            "_________________________________________________________________\n",
            "Layer (type)                 Output Shape              Param #   \n",
            "=================================================================\n",
            "conv2d (Conv2D)              (None, 28, 28, 32)        320       \n",
            "_________________________________________________________________\n",
            "max_pooling2d (MaxPooling2D) (None, 14, 14, 32)        0         \n",
            "_________________________________________________________________\n",
            "batch_normalization (BatchNo (None, 14, 14, 32)        128       \n",
            "_________________________________________________________________\n",
            "conv2d_1 (Conv2D)            (None, 14, 14, 64)        18496     \n",
            "_________________________________________________________________\n",
            "max_pooling2d_1 (MaxPooling2 (None, 7, 7, 64)          0         \n",
            "_________________________________________________________________\n",
            "dropout (Dropout)            (None, 7, 7, 64)          0         \n",
            "_________________________________________________________________\n",
            "batch_normalization_1 (Batch (None, 7, 7, 64)          256       \n",
            "_________________________________________________________________\n",
            "conv2d_2 (Conv2D)            (None, 7, 7, 128)         73856     \n",
            "_________________________________________________________________\n",
            "max_pooling2d_2 (MaxPooling2 (None, 3, 3, 128)         0         \n",
            "_________________________________________________________________\n",
            "dropout_1 (Dropout)          (None, 3, 3, 128)         0         \n",
            "_________________________________________________________________\n",
            "batch_normalization_2 (Batch (None, 3, 3, 128)         512       \n",
            "_________________________________________________________________\n",
            "flatten (Flatten)            (None, 1152)              0         \n",
            "_________________________________________________________________\n",
            "dense (Dense)                (None, 32)                36896     \n",
            "_________________________________________________________________\n",
            "batch_normalization_3 (Batch (None, 32)                128       \n",
            "_________________________________________________________________\n",
            "dropout_2 (Dropout)          (None, 32)                0         \n",
            "_________________________________________________________________\n",
            "dense_1 (Dense)              (None, 10)                330       \n",
            "=================================================================\n",
            "Total params: 130,922\n",
            "Trainable params: 130,410\n",
            "Non-trainable params: 512\n",
            "_________________________________________________________________\n"
          ]
        }
      ],
      "source": [
        "model = create_model()                                                          # Now we created an instance of a model with our custom architefture.\n",
        "model.summary()                                                                 # Then we display our model's summary."
      ]
    },
    {
      "cell_type": "markdown",
      "metadata": {
        "id": "SVqu1J7VeQvS"
      },
      "source": [
        "Lets train our model."
      ]
    },
    {
      "cell_type": "code",
      "execution_count": 16,
      "metadata": {
        "id": "TQ61tTgthNX3"
      },
      "outputs": [],
      "source": [
        "model = create_model(optimizer='adam',                                       # We create our model with the specified hyper parameters\n",
        "                     kernel_initializer='normal',\n",
        "                     activation='relu')"
      ]
    },
    {
      "cell_type": "code",
      "execution_count": 17,
      "metadata": {
        "colab": {
          "base_uri": "https://localhost:8080/"
        },
        "id": "VU8nilxQWjhp",
        "outputId": "478c2440-95e0-46c3-e501-11a7db34ce45"
      },
      "outputs": [
        {
          "name": "stdout",
          "output_type": "stream",
          "text": [
            "Epoch 1/10\n",
            "657/657 [==============================] - 11s 11ms/step - loss: 0.9286 - accuracy: 0.9104 - val_loss: 0.1001 - val_accuracy: 0.9896\n",
            "\n",
            "Epoch 00001: val_loss improved from inf to 0.10009, saving model to Saved Model Number\\weights.hdf5\n",
            "Epoch 2/10\n",
            "657/657 [==============================] - 7s 10ms/step - loss: 0.0888 - accuracy: 0.9889 - val_loss: 0.0656 - val_accuracy: 0.9925\n",
            "\n",
            "Epoch 00002: val_loss improved from 0.10009 to 0.06561, saving model to Saved Model Number\\weights.hdf5\n",
            "Epoch 3/10\n",
            "657/657 [==============================] - 7s 11ms/step - loss: 0.0701 - accuracy: 0.9910 - val_loss: 0.0859 - val_accuracy: 0.9874\n",
            "\n",
            "Epoch 00003: val_loss did not improve from 0.06561\n",
            "Epoch 4/10\n",
            "657/657 [==============================] - 7s 11ms/step - loss: 0.0681 - accuracy: 0.9908 - val_loss: 0.0578 - val_accuracy: 0.9927\n",
            "\n",
            "Epoch 00004: val_loss improved from 0.06561 to 0.05778, saving model to Saved Model Number\\weights.hdf5\n",
            "Epoch 5/10\n",
            "657/657 [==============================] - 7s 10ms/step - loss: 0.0637 - accuracy: 0.9920 - val_loss: 0.0636 - val_accuracy: 0.9912\n",
            "\n",
            "Epoch 00005: val_loss did not improve from 0.05778\n",
            "Epoch 6/10\n",
            "657/657 [==============================] - 7s 10ms/step - loss: 0.0580 - accuracy: 0.9935 - val_loss: 0.0640 - val_accuracy: 0.9924\n",
            "\n",
            "Epoch 00006: val_loss did not improve from 0.05778\n",
            "Epoch 7/10\n",
            "657/657 [==============================] - 6s 10ms/step - loss: 0.0569 - accuracy: 0.9937 - val_loss: 0.0617 - val_accuracy: 0.9937\n",
            "\n",
            "Epoch 00007: val_loss did not improve from 0.05778\n",
            "Epoch 8/10\n",
            "657/657 [==============================] - 7s 10ms/step - loss: 0.0538 - accuracy: 0.9947 - val_loss: 0.0610 - val_accuracy: 0.9930\n",
            "\n",
            "Epoch 00008: val_loss did not improve from 0.05778\n",
            "Epoch 9/10\n",
            "657/657 [==============================] - 7s 10ms/step - loss: 0.0629 - accuracy: 0.9927 - val_loss: 0.0543 - val_accuracy: 0.9942\n",
            "\n",
            "Epoch 00009: val_loss improved from 0.05778 to 0.05429, saving model to Saved Model Number\\weights.hdf5\n",
            "Epoch 10/10\n",
            "657/657 [==============================] - 7s 10ms/step - loss: 0.0517 - accuracy: 0.9951 - val_loss: 0.1784 - val_accuracy: 0.9503\n",
            "\n",
            "Epoch 00010: val_loss did not improve from 0.05429\n"
          ]
        }
      ],
      "source": [
        "from tensorflow.keras.callbacks import ModelCheckpoint                                     # We will import a call back to save the best epoch's weights\n",
        "\n",
        "checkpointer = ModelCheckpoint(filepath='Saved Model Number\\weights.hdf5', verbose=1, save_best_only=True)\n",
        "history = model.fit(train_x,                                                    \n",
        "                    train_y, \n",
        "                    validation_split= 0.3,                                      # The model will split the data into 30% of validation.\n",
        "                    epochs=10,                                                  # We will run the model for 30 epochs\n",
        "                    batch_size=64,                                              # We will have a batch size of 64\n",
        "                    callbacks=[checkpointer])                                   # Finally we will use the imported callback"
      ]
    },
    {
      "cell_type": "markdown",
      "metadata": {
        "id": "0SVekRtfMnNv"
      },
      "source": [
        "11- Now lets load the best epoch's weights and then evaluate our model using the test set."
      ]
    },
    {
      "cell_type": "code",
      "execution_count": 18,
      "metadata": {
        "colab": {
          "base_uri": "https://localhost:8080/"
        },
        "id": "JHbED-hWhqSL",
        "outputId": "2341e292-cddc-4423-d1dd-d266732ddc98"
      },
      "outputs": [
        {
          "name": "stdout",
          "output_type": "stream",
          "text": [
            "313/313 [==============================] - 1s 4ms/step - loss: 0.0651 - accuracy: 0.9902\n"
          ]
        },
        {
          "data": {
            "text/plain": [
              "[0.0651031956076622, 0.9901999831199646]"
            ]
          },
          "execution_count": 18,
          "metadata": {},
          "output_type": "execute_result"
        }
      ],
      "source": [
        "model.load_weights('Saved Model Number\\weights.hdf5')                                              # Loading the best weights        \n",
        "model.evaluate(test_x, test_y)                                                  # Evaluating our model"
      ]
    },
    {
      "cell_type": "markdown",
      "metadata": {
        "id": "yhqkkDkyM5IH"
      },
      "source": [
        "12- Lets plot our training journy to check the performance and verify that the model is not overfitting."
      ]
    },
    {
      "cell_type": "code",
      "execution_count": 19,
      "metadata": {
        "colab": {
          "base_uri": "https://localhost:8080/",
          "height": 590
        },
        "id": "h9RYi7P3hmyr",
        "outputId": "72ff20cb-3ee3-47fe-f385-2d7dd143cb25"
      },
      "outputs": [
        {
          "data": {
            "text/plain": [
              "Text(0.5, 1.0, 'Training and validation loss')"
            ]
          },
          "execution_count": 19,
          "metadata": {},
          "output_type": "execute_result"
        },
        {
          "data": {
            "image/png": "[encoded data removed]",
            "text/plain": [
              "<Figure size 432x288 with 1 Axes>"
            ]
          },
          "metadata": {
            "needs_background": "light"
          },
          "output_type": "display_data"
        },
        {
          "data": {
            "image/png": "[encoded data removed]",
            "text/plain": [
              "<Figure size 432x288 with 1 Axes>"
            ]
          },
          "metadata": {
            "needs_background": "light"
          },
          "output_type": "display_data"
        }
      ],
      "source": [
        "# PLOT LOSS AND ACCURACY\n",
        "%matplotlib inline\n",
        "\n",
        "import matplotlib.image  as mpimg\n",
        "import matplotlib.pyplot as plt\n",
        "\n",
        "#-----------------------------------------------------------\n",
        "# Retrieve a list of list results on training and test data\n",
        "# sets for each training epoch\n",
        "#-----------------------------------------------------------\n",
        "acc=history.history['accuracy']\n",
        "val_acc=history.history['val_accuracy']\n",
        "loss=history.history['loss']\n",
        "val_loss=history.history['val_loss']\n",
        "\n",
        "epochs=range(len(acc)) # Get number of epochs\n",
        "\n",
        "#------------------------------------------------\n",
        "# Plot training and validation accuracy per epoch\n",
        "#------------------------------------------------\n",
        "plt.plot(history.history['accuracy'])\n",
        "plt.plot(history.history['val_accuracy'])\n",
        "plt.title('Training and validation accuracy')\n",
        "plt.legend(['train', 'val'], loc='upper left')\n",
        "plt.ylabel('accuracy')\n",
        "plt.xlabel('epoch')\n",
        "plt.figure()\n",
        "\n",
        "#------------------------------------------------\n",
        "# Plot training and validation loss per epoch\n",
        "#------------------------------------------------\n",
        "plt.plot(history.history['loss'])\n",
        "plt.plot(history.history['val_loss'])\n",
        "plt.title('Training and validation loss')\n",
        "plt.legend(['train', 'val'], loc='upper left')\n",
        "plt.ylabel('accuracy')\n",
        "plt.xlabel('epoch')\n",
        "\n",
        "\n",
        "plt.title('Training and validation loss')\n"
      ]
    },
    {
      "cell_type": "markdown",
      "metadata": {
        "id": "VT9JGH7_NIZ3"
      },
      "source": [
        "12- Lets save our model for later use"
      ]
    },
    {
      "cell_type": "code",
      "execution_count": 21,
      "metadata": {
        "id": "3x0xPEg0VylP"
      },
      "outputs": [],
      "source": [
        "model.save('Saved Model Number\\\\number.h5')"
      ]
    },
    {
      "cell_type": "markdown",
      "metadata": {
        "id": "mAXt2eg3NVfH"
      },
      "source": [
        "##Testing Model"
      ]
    },
    {
      "cell_type": "markdown",
      "metadata": {
        "id": "3UibIHxwNaPf"
      },
      "source": [
        "Now lets load our model and test it on our custom images."
      ]
    },
    {
      "cell_type": "code",
      "execution_count": 23,
      "metadata": {
        "id": "DwQmSGXykYv2"
      },
      "outputs": [],
      "source": [
        "model = tf.keras.models.load_model('Saved Model Number\\\\number.h5')                      # Now we load the model"
      ]
    },
    {
      "cell_type": "markdown",
      "metadata": {
        "id": "H364GGx-NiY_"
      },
      "source": [
        "In the following function we mapped the categorical output with the Arabic letters to help us better identifing the classes."
      ]
    },
    {
      "cell_type": "code",
      "execution_count": 24,
      "metadata": {
        "id": "w5hoxHnzoyxm"
      },
      "outputs": [],
      "source": [
        "def convert_categorical_label_to_real_label(categorical_label):\n",
        "  real_labels = []\n",
        "  real_labels.extend([x for x in range(10)])\n",
        "  return real_labels[categorical_label]"
      ]
    },
    {
      "cell_type": "markdown",
      "metadata": {
        "id": "5eRBZtLtNtk_"
      },
      "source": [
        "Finally lets test them on custom images."
      ]
    },
    {
      "cell_type": "code",
      "execution_count": 25,
      "metadata": {},
      "outputs": [
        {
          "data": {
            "image/png": "[encoded data removed]",
            "text/plain": [
              "<Figure size 432x288 with 1 Axes>"
            ]
          },
          "metadata": {
            "needs_background": "light"
          },
          "output_type": "display_data"
        },
        {
          "name": "stdout",
          "output_type": "stream",
          "text": [
            "1\n"
          ]
        }
      ],
      "source": [
        "test = cv2.imread(r'D:\\AtlantisSeeker-UIN\\Skripsi Imam\\Arabic char and digits recognition\\Individual Model\\Arabic Number Recognition\\Dataset\\Handmade dataset\\2022_01_22_0mr_Kleki (1).png')\n",
        "test = cv2.cvtColor(test, cv2.COLOR_BGR2GRAY)\n",
        "test = cv2.resize(test, (28, 28))\n",
        "plt.imshow(test, cmap='gray')\n",
        "plt.show()\n",
        "test = np.reshape(test, (-1, 28, 28, 1))\n",
        "test = test.astype('float32')/255\n",
        "print(convert_categorical_label_to_real_label(np.argmax(model.predict(test))))"
      ]
    },
    {
      "cell_type": "markdown",
      "metadata": {},
      "source": [
        "## Converting to tensorflow lite"
      ]
    },
    {
      "cell_type": "code",
      "execution_count": 29,
      "metadata": {},
      "outputs": [],
      "source": [
        "#Create the label txt\n",
        "real_labels = []\n",
        "real_labels.extend([x for x in range(10)])\n",
        "textfile = open(r\"D:\\AtlantisSeeker-UIN\\Skripsi Imam\\Arabic char and digits recognition\\Individual Model\\Arabic Number Recognition\\label_number_only.txt\", \"w\", encoding='utf-8')\n",
        "\n",
        "for element in real_labels:\n",
        "    textfile.write(str(element) + \"\\n\")\n",
        "textfile.close()"
      ]
    },
    {
      "cell_type": "code",
      "execution_count": 30,
      "metadata": {},
      "outputs": [
        {
          "name": "stdout",
          "output_type": "stream",
          "text": [
            "INFO:tensorflow:Assets written to: C:\\Users\\IMAMLU~1\\AppData\\Local\\Temp\\tmpxa4qm2mf\\assets\n"
          ]
        }
      ],
      "source": [
        "import tensorflow as tf\n",
        "\n",
        "# Convert the model.\n",
        "converter = tf.lite.TFLiteConverter.from_keras_model(model)\n",
        "tflite_model = converter.convert()\n",
        "\n",
        "# Save the model.\n",
        "with open('D:\\AtlantisSeeker-UIN\\Skripsi Imam\\Arabic char and digits recognition\\Individual Model\\Arabic Number Recognition\\Saved Model Number\\model_digit.tflite', 'wb') as f:\n",
        "  f.write(tflite_model)"
      ]
    },
    {
      "cell_type": "code",
      "execution_count": 31,
      "metadata": {},
      "outputs": [],
      "source": [
        "from tflite_support.metadata_writers import image_classifier\n",
        "from tflite_support.metadata_writers import writer_utils"
      ]
    },
    {
      "cell_type": "code",
      "execution_count": 33,
      "metadata": {},
      "outputs": [
        {
          "name": "stdout",
          "output_type": "stream",
          "text": [
            "{\n",
            "  \"name\": \"ImageClassifier\",\n",
            "  \"description\": \"Identify the most prominent object in the image from a known set of categories.\",\n",
            "  \"subgraph_metadata\": [\n",
            "    {\n",
            "      \"input_tensor_metadata\": [\n",
            "        {\n",
            "          \"name\": \"image\",\n",
            "          \"description\": \"Input image to be classified.\",\n",
            "          \"content\": {\n",
            "            \"content_properties_type\": \"ImageProperties\",\n",
            "            \"content_properties\": {\n",
            "              \"color_space\": \"RGB\"\n",
            "            }\n",
            "          },\n",
            "          \"process_units\": [\n",
            "            {\n",
            "              \"options_type\": \"NormalizationOptions\",\n",
            "              \"options\": {\n",
            "                \"mean\": [\n",
            "                  127.5\n",
            "                ],\n",
            "                \"std\": [\n",
            "                  127.5\n",
            "                ]\n",
            "              }\n",
            "            }\n",
            "          ],\n",
            "          \"stats\": {\n",
            "            \"max\": [\n",
            "              1.0\n",
            "            ],\n",
            "            \"min\": [\n",
            "              -1.0\n",
            "            ]\n",
            "          }\n",
            "        }\n",
            "      ],\n",
            "      \"output_tensor_metadata\": [\n",
            "        {\n",
            "          \"name\": \"probability\",\n",
            "          \"description\": \"Probabilities of the labels respectively.\",\n",
            "          \"content\": {\n",
            "            \"content_properties_type\": \"FeatureProperties\",\n",
            "            \"content_properties\": {\n",
            "            }\n",
            "          },\n",
            "          \"stats\": {\n",
            "            \"max\": [\n",
            "              1.0\n",
            "            ],\n",
            "            \"min\": [\n",
            "              0.0\n",
            "            ]\n",
            "          },\n",
            "          \"associated_files\": [\n",
            "            {\n",
            "              \"name\": \"label_number_only.txt\",\n",
            "              \"description\": \"Labels for categories that the model can recognize.\",\n",
            "              \"type\": \"TENSOR_AXIS_LABELS\"\n",
            "            }\n",
            "          ]\n",
            "        }\n",
            "      ]\n",
            "    }\n",
            "  ]\n",
            "}\n",
            "\n"
          ]
        }
      ],
      "source": [
        "ImageClassifierWriter = image_classifier.MetadataWriter\n",
        "_MODEL_PATH = \"D:\\AtlantisSeeker-UIN\\Skripsi Imam\\Arabic char and digits recognition\\Individual Model\\Arabic Number Recognition\\Saved Model Number\\model_digit.tflite\"\n",
        "# Task Library expects label files that are in the same format as the one below.\n",
        "_LABEL_FILE = \"D:\\AtlantisSeeker-UIN\\Skripsi Imam\\Arabic char and digits recognition\\Individual Model\\Arabic Number Recognition\\label_number_only.txt\"\n",
        "_SAVE_TO_PATH = \"D:\\AtlantisSeeker-UIN\\Skripsi Imam\\Arabic char and digits recognition\\Individual Model\\Arabic Number Recognition\\Saved Model Number\\model_digit_with_metadata.tflite\"\n",
        "# Normalization parameters is required when reprocessing the image. It is\n",
        "# optional if the image pixel values are in range of [0, 255] and the input\n",
        "# tensor is quantized to uint8. See the introduction for normalization and\n",
        "# quantization parameters below for more details.\n",
        "# https://www.tensorflow.org/lite/convert/metadata#normalization_and_quantization_parameters)\n",
        "_INPUT_NORM_MEAN = 127.5\n",
        "_INPUT_NORM_STD = 127.5\n",
        "\n",
        "# Create the metadata writer.\n",
        "writer = ImageClassifierWriter.create_for_inference(\n",
        "    writer_utils.load_file(_MODEL_PATH), [_INPUT_NORM_MEAN], [_INPUT_NORM_STD],\n",
        "    [_LABEL_FILE])\n",
        "\n",
        "# Verify the metadata generated by metadata writer.\n",
        "print(writer.get_metadata_json())\n",
        "\n",
        "# Populate the metadata into the model.\n",
        "writer_utils.save_file(writer.populate(), _SAVE_TO_PATH)"
      ]
    }
  ],
  "metadata": {
    "colab": {
      "name": "Arabic Digit Recognizer.ipynb",
      "provenance": []
    },
    "kernelspec": {
      "display_name": "Python 3",
      "name": "python3"
    },
    "language_info": {
      "codemirror_mode": {
        "name": "ipython",
        "version": 3
      },
      "file_extension": ".py",
      "mimetype": "text/x-python",
      "name": "python",
      "nbconvert_exporter": "python",
      "pygments_lexer": "ipython3",
      "version": "3.6.13"
    }
  },
  "nbformat": 4,
  "nbformat_minor": 0
}
